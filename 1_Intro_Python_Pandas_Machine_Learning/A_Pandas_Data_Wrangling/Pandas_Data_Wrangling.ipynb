{
 "cells": [
  {
   "cell_type": "markdown",
   "id": "25d7736c-ba17-4aff-b6bb-66eba20fbf4e",
   "metadata": {},
   "source": [
    "# Lab | Pandas"
   ]
  },
  {
   "cell_type": "markdown",
   "id": "d1973e9e-8be6-4039-b70e-d73ee0d94c99",
   "metadata": {},
   "source": [
    "In this lab, we will be working with the customer data from an insurance company, which can be found in the CSV file located at the following link: https://raw.githubusercontent.com/data-bootcamp-v4/data/main/file1.csv\n",
    "\n",
    "The data includes information such as customer ID, state, gender, education, income, and other variables that can be used to perform various analyses.\n",
    "\n",
    "Throughout the lab, we will be using the pandas library in Python to manipulate and analyze the data. Pandas is a powerful library that provides various data manipulation and analysis tools, including the ability to load and manipulate data from a variety of sources, including CSV files."
   ]
  },
  {
   "cell_type": "markdown",
   "id": "3a72419b-20fc-4905-817a-8c83abc59de6",
   "metadata": {},
   "source": [
    "External Resources: https://towardsdatascience.com/filtering-data-frames-in-pandas-b570b1f834b9"
   ]
  },
  {
   "cell_type": "markdown",
   "id": "8045146f-f4f7-44d9-8cd9-130d6400c73a",
   "metadata": {},
   "source": [
    "### Data Description\n",
    "| Column                    | Description                                                                                                                                                                                                                                                        |\n",
    "|---------------------------|--------------------------------------------------------------------------------------------------------------------------------------------------------------------------------------------------------------------------------------------------------------------|\n",
    "| Customer                  | Customer ID                                                                                                                                                                                                                                                        |\n",
    "| ST                        | State where customers live                                                                                                                                                                                                                                         |\n",
    "| Gender                    | Gender of the customer                                                                                                                                                                                                                                             |\n",
    "| Education                 | Background education of customers                                                                                                                                                                                                                                  |\n",
    "| Customer Lifetime Value   | Customer lifetime value (CLV) is the total revenue the client will derive from their entire relationship with a customer. It includes factors such as the duration of the customer's policy, premium payments, claim history, renewal likelihood, and additional services or products. |\n",
    "| Income                    | Customer's income                                                                                                                                                                                                                                                  |\n",
    "| Monthly Premium Auto      | Amount of money the customer pays on a monthly basis as a premium for their auto insurance coverage. This represents the recurring cost that the insured person must pay to maintain their insurance policy and receive coverage for potential damages or other covered events related to their vehicle.      |\n",
    "| Number of Open Complaints | Number of complaints the customer opened                                                                                                                                                                                                                           |\n",
    "| Policy Type               | There are three types of policies in car insurance: Corporate Auto, Personal Auto, and Special Auto                                                                                                                                                                |\n",
    "| Vehicle Class             | Type of vehicle classes that customers have: Two-Door Car, Four-Door Car, SUV, Luxury SUV, Sports Car, and Luxury Car                                                                                                                                              |\n",
    "| Total Claim Amount        | The sum of all claims made by the customer, representing the total monetary value of all approved claims for incidents such as accidents, theft, vandalism, or other covered events.                                                                               |\n"
   ]
  },
  {
   "cell_type": "markdown",
   "id": "8f8ece17-e919-4e23-96c0-c7c59778436a",
   "metadata": {},
   "source": [
    "## Challenge 1: Understanding the data\n",
    "\n",
    "In this challenge, you will use pandas to explore a given dataset. Your task is to gain a deep understanding of the data by analyzing its characteristics, dimensions, and statistical properties."
   ]
  },
  {
   "cell_type": "markdown",
   "id": "91437bd5-59a6-49c0-8150-ef0e6e6eb253",
   "metadata": {},
   "source": [
    "- Identify the dimensions of the dataset by determining the number of rows and columns it contains.\n",
    "- Determine the data types of each column and evaluate whether they are appropriate for the nature of the variable. You should also provide suggestions for fixing any incorrect data types.\n",
    "- Identify the number of unique values for each column and determine which columns appear to be categorical. You should also describe the unique values of each categorical column and the range of values for numerical columns, and give your insights.\n",
    "- Compute summary statistics such as mean, median, mode, standard deviation, and quartiles to understand the central tendency and distribution of the data for numerical columns. You should also provide your conclusions based on these summary statistics.\n",
    "- Compute summary statistics for categorical columns and providing your conclusions based on these statistics."
   ]
  },
  {
   "cell_type": "code",
   "execution_count": 1,
   "id": "dd4e8cd8-a6f6-486c-a5c4-1745b0c035f4",
   "metadata": {},
   "outputs": [
    {
     "name": "stdout",
     "output_type": "stream",
     "text": [
      "Requirement already satisfied: pandas in /opt/anaconda3/lib/python3.11/site-packages (2.1.4)\n",
      "Requirement already satisfied: numpy<2,>=1.23.2 in /opt/anaconda3/lib/python3.11/site-packages (from pandas) (1.26.4)\n",
      "Requirement already satisfied: python-dateutil>=2.8.2 in /opt/anaconda3/lib/python3.11/site-packages (from pandas) (2.8.2)\n",
      "Requirement already satisfied: pytz>=2020.1 in /opt/anaconda3/lib/python3.11/site-packages (from pandas) (2023.3.post1)\n",
      "Requirement already satisfied: tzdata>=2022.1 in /opt/anaconda3/lib/python3.11/site-packages (from pandas) (2023.3)\n",
      "Requirement already satisfied: six>=1.5 in /opt/anaconda3/lib/python3.11/site-packages (from python-dateutil>=2.8.2->pandas) (1.16.0)\n"
     ]
    },
    {
     "data": {
      "text/html": [
       "<div>\n",
       "<style scoped>\n",
       "    .dataframe tbody tr th:only-of-type {\n",
       "        vertical-align: middle;\n",
       "    }\n",
       "\n",
       "    .dataframe tbody tr th {\n",
       "        vertical-align: top;\n",
       "    }\n",
       "\n",
       "    .dataframe thead th {\n",
       "        text-align: right;\n",
       "    }\n",
       "</style>\n",
       "<table border=\"1\" class=\"dataframe\">\n",
       "  <thead>\n",
       "    <tr style=\"text-align: right;\">\n",
       "      <th></th>\n",
       "      <th>customer</th>\n",
       "      <th>st</th>\n",
       "      <th>gender</th>\n",
       "      <th>education</th>\n",
       "      <th>customer lifetime value</th>\n",
       "      <th>income</th>\n",
       "      <th>monthly premium auto</th>\n",
       "      <th>number of open complaints</th>\n",
       "      <th>policy type</th>\n",
       "      <th>vehicle class</th>\n",
       "      <th>total claim amount</th>\n",
       "    </tr>\n",
       "  </thead>\n",
       "  <tbody>\n",
       "    <tr>\n",
       "      <th>0</th>\n",
       "      <td>RB50392</td>\n",
       "      <td>Washington</td>\n",
       "      <td>NaN</td>\n",
       "      <td>Master</td>\n",
       "      <td>NaN</td>\n",
       "      <td>0.0</td>\n",
       "      <td>1000.0</td>\n",
       "      <td>1/0/00</td>\n",
       "      <td>Personal Auto</td>\n",
       "      <td>Four-Door Car</td>\n",
       "      <td>2.704934</td>\n",
       "    </tr>\n",
       "    <tr>\n",
       "      <th>1</th>\n",
       "      <td>QZ44356</td>\n",
       "      <td>Arizona</td>\n",
       "      <td>F</td>\n",
       "      <td>Bachelor</td>\n",
       "      <td>697953.59%</td>\n",
       "      <td>0.0</td>\n",
       "      <td>94.0</td>\n",
       "      <td>1/0/00</td>\n",
       "      <td>Personal Auto</td>\n",
       "      <td>Four-Door Car</td>\n",
       "      <td>1131.464935</td>\n",
       "    </tr>\n",
       "    <tr>\n",
       "      <th>2</th>\n",
       "      <td>AI49188</td>\n",
       "      <td>Nevada</td>\n",
       "      <td>F</td>\n",
       "      <td>Bachelor</td>\n",
       "      <td>1288743.17%</td>\n",
       "      <td>48767.0</td>\n",
       "      <td>108.0</td>\n",
       "      <td>1/0/00</td>\n",
       "      <td>Personal Auto</td>\n",
       "      <td>Two-Door Car</td>\n",
       "      <td>566.472247</td>\n",
       "    </tr>\n",
       "    <tr>\n",
       "      <th>3</th>\n",
       "      <td>WW63253</td>\n",
       "      <td>California</td>\n",
       "      <td>M</td>\n",
       "      <td>Bachelor</td>\n",
       "      <td>764586.18%</td>\n",
       "      <td>0.0</td>\n",
       "      <td>106.0</td>\n",
       "      <td>1/0/00</td>\n",
       "      <td>Corporate Auto</td>\n",
       "      <td>SUV</td>\n",
       "      <td>529.881344</td>\n",
       "    </tr>\n",
       "    <tr>\n",
       "      <th>4</th>\n",
       "      <td>GA49547</td>\n",
       "      <td>Washington</td>\n",
       "      <td>M</td>\n",
       "      <td>High School or Below</td>\n",
       "      <td>536307.65%</td>\n",
       "      <td>36357.0</td>\n",
       "      <td>68.0</td>\n",
       "      <td>1/0/00</td>\n",
       "      <td>Personal Auto</td>\n",
       "      <td>Four-Door Car</td>\n",
       "      <td>17.269323</td>\n",
       "    </tr>\n",
       "    <tr>\n",
       "      <th>...</th>\n",
       "      <td>...</td>\n",
       "      <td>...</td>\n",
       "      <td>...</td>\n",
       "      <td>...</td>\n",
       "      <td>...</td>\n",
       "      <td>...</td>\n",
       "      <td>...</td>\n",
       "      <td>...</td>\n",
       "      <td>...</td>\n",
       "      <td>...</td>\n",
       "      <td>...</td>\n",
       "    </tr>\n",
       "    <tr>\n",
       "      <th>1066</th>\n",
       "      <td>TM65736</td>\n",
       "      <td>Oregon</td>\n",
       "      <td>M</td>\n",
       "      <td>Master</td>\n",
       "      <td>305955.03%</td>\n",
       "      <td>38644.0</td>\n",
       "      <td>78.0</td>\n",
       "      <td>1/1/00</td>\n",
       "      <td>Personal Auto</td>\n",
       "      <td>Four-Door Car</td>\n",
       "      <td>361.455219</td>\n",
       "    </tr>\n",
       "    <tr>\n",
       "      <th>1067</th>\n",
       "      <td>VJ51327</td>\n",
       "      <td>Cali</td>\n",
       "      <td>F</td>\n",
       "      <td>High School or Below</td>\n",
       "      <td>2031499.76%</td>\n",
       "      <td>63209.0</td>\n",
       "      <td>102.0</td>\n",
       "      <td>1/2/00</td>\n",
       "      <td>Personal Auto</td>\n",
       "      <td>SUV</td>\n",
       "      <td>207.320041</td>\n",
       "    </tr>\n",
       "    <tr>\n",
       "      <th>1068</th>\n",
       "      <td>GS98873</td>\n",
       "      <td>Arizona</td>\n",
       "      <td>F</td>\n",
       "      <td>Bachelor</td>\n",
       "      <td>323912.47%</td>\n",
       "      <td>16061.0</td>\n",
       "      <td>88.0</td>\n",
       "      <td>1/0/00</td>\n",
       "      <td>Personal Auto</td>\n",
       "      <td>Four-Door Car</td>\n",
       "      <td>633.600000</td>\n",
       "    </tr>\n",
       "    <tr>\n",
       "      <th>1069</th>\n",
       "      <td>CW49887</td>\n",
       "      <td>California</td>\n",
       "      <td>F</td>\n",
       "      <td>Master</td>\n",
       "      <td>462680.11%</td>\n",
       "      <td>79487.0</td>\n",
       "      <td>114.0</td>\n",
       "      <td>1/0/00</td>\n",
       "      <td>Special Auto</td>\n",
       "      <td>SUV</td>\n",
       "      <td>547.200000</td>\n",
       "    </tr>\n",
       "    <tr>\n",
       "      <th>1070</th>\n",
       "      <td>MY31220</td>\n",
       "      <td>California</td>\n",
       "      <td>F</td>\n",
       "      <td>College</td>\n",
       "      <td>899704.02%</td>\n",
       "      <td>54230.0</td>\n",
       "      <td>112.0</td>\n",
       "      <td>1/0/00</td>\n",
       "      <td>Personal Auto</td>\n",
       "      <td>Two-Door Car</td>\n",
       "      <td>537.600000</td>\n",
       "    </tr>\n",
       "  </tbody>\n",
       "</table>\n",
       "<p>1071 rows × 11 columns</p>\n",
       "</div>"
      ],
      "text/plain": [
       "     customer          st gender             education  \\\n",
       "0     RB50392  Washington    NaN                Master   \n",
       "1     QZ44356     Arizona      F              Bachelor   \n",
       "2     AI49188      Nevada      F              Bachelor   \n",
       "3     WW63253  California      M              Bachelor   \n",
       "4     GA49547  Washington      M  High School or Below   \n",
       "...       ...         ...    ...                   ...   \n",
       "1066  TM65736      Oregon      M                Master   \n",
       "1067  VJ51327        Cali      F  High School or Below   \n",
       "1068  GS98873     Arizona      F              Bachelor   \n",
       "1069  CW49887  California      F                Master   \n",
       "1070  MY31220  California      F               College   \n",
       "\n",
       "     customer lifetime value   income  monthly premium auto  \\\n",
       "0                        NaN      0.0                1000.0   \n",
       "1                 697953.59%      0.0                  94.0   \n",
       "2                1288743.17%  48767.0                 108.0   \n",
       "3                 764586.18%      0.0                 106.0   \n",
       "4                 536307.65%  36357.0                  68.0   \n",
       "...                      ...      ...                   ...   \n",
       "1066              305955.03%  38644.0                  78.0   \n",
       "1067             2031499.76%  63209.0                 102.0   \n",
       "1068              323912.47%  16061.0                  88.0   \n",
       "1069              462680.11%  79487.0                 114.0   \n",
       "1070              899704.02%  54230.0                 112.0   \n",
       "\n",
       "     number of open complaints     policy type  vehicle class  \\\n",
       "0                       1/0/00   Personal Auto  Four-Door Car   \n",
       "1                       1/0/00   Personal Auto  Four-Door Car   \n",
       "2                       1/0/00   Personal Auto   Two-Door Car   \n",
       "3                       1/0/00  Corporate Auto            SUV   \n",
       "4                       1/0/00   Personal Auto  Four-Door Car   \n",
       "...                        ...             ...            ...   \n",
       "1066                    1/1/00   Personal Auto  Four-Door Car   \n",
       "1067                    1/2/00   Personal Auto            SUV   \n",
       "1068                    1/0/00   Personal Auto  Four-Door Car   \n",
       "1069                    1/0/00    Special Auto            SUV   \n",
       "1070                    1/0/00   Personal Auto   Two-Door Car   \n",
       "\n",
       "      total claim amount  \n",
       "0               2.704934  \n",
       "1            1131.464935  \n",
       "2             566.472247  \n",
       "3             529.881344  \n",
       "4              17.269323  \n",
       "...                  ...  \n",
       "1066          361.455219  \n",
       "1067          207.320041  \n",
       "1068          633.600000  \n",
       "1069          547.200000  \n",
       "1070          537.600000  \n",
       "\n",
       "[1071 rows x 11 columns]"
      ]
     },
     "execution_count": 1,
     "metadata": {},
     "output_type": "execute_result"
    }
   ],
   "source": [
    "#setup\n",
    "!pip3 install pandas\n",
    "import pandas as pd\n",
    "import numpy as np\n",
    "\n",
    "# retrieve dataset\n",
    "# url = \"https://raw.githubusercontent.com/data-bootcamp-v4/data/main/file1.csv\"\n",
    "# insurance_data = pd.read_csv(url)\n",
    "# save to csv\n",
    "# insurance_data.to_csv('insurance_data', index=False)\n",
    "\n",
    "# get data from csv\n",
    "insurance_data = pd.read_csv('insurance_data')\n",
    "\n",
    "#lower column names\n",
    "insurance_data.rename(columns=str.lower, inplace=True)\n",
    "\n",
    "# drop duplicates\n",
    "insurance_data = insurance_data.drop_duplicates()\n",
    "\n",
    "# drop row(s) that only have nan value\n",
    "insurance_data.dropna(axis = 0, how = 'all', inplace = True)\n",
    "\n",
    "#reset index\n",
    "insurance_data = insurance_data.reset_index(drop=True)\n",
    "\n",
    "# make sure it works\n",
    "insurance_data"
   ]
  },
  {
   "cell_type": "code",
   "execution_count": 2,
   "id": "a07877e7",
   "metadata": {},
   "outputs": [
    {
     "data": {
      "text/plain": [
       "customer                      object\n",
       "st                            object\n",
       "gender                        object\n",
       "education                     object\n",
       "customer lifetime value       object\n",
       "income                       float64\n",
       "monthly premium auto         float64\n",
       "number of open complaints     object\n",
       "policy type                   object\n",
       "vehicle class                 object\n",
       "total claim amount           float64\n",
       "dtype: object"
      ]
     },
     "execution_count": 2,
     "metadata": {},
     "output_type": "execute_result"
    }
   ],
   "source": [
    "insurance_data.dtypes"
   ]
  },
  {
   "cell_type": "code",
   "execution_count": 3,
   "metadata": {},
   "outputs": [
    {
     "data": {
      "text/plain": [
       "customer                     1071\n",
       "st                           1071\n",
       "gender                        954\n",
       "education                    1071\n",
       "customer lifetime value      1068\n",
       "income                       1071\n",
       "monthly premium auto         1071\n",
       "number of open complaints    1071\n",
       "policy type                  1071\n",
       "vehicle class                1071\n",
       "total claim amount           1071\n",
       "dtype: int64"
      ]
     },
     "execution_count": 3,
     "metadata": {},
     "output_type": "execute_result"
    }
   ],
   "source": [
    "# check for non null\n",
    "insurance_data.count()"
   ]
  },
  {
   "cell_type": "code",
   "execution_count": 4,
   "id": "0313d6e8",
   "metadata": {},
   "outputs": [],
   "source": [
    "#customer                      (--> str / category)\n",
    "#st                            (--> str / category)\n",
    "#gender                        (--> str / category)\n",
    "#education                     (--> str / category)\n",
    "#customer lifetime value       (--> str / category)\n",
    "#income                       correct\n",
    "#monthly premium auto           --> int64 --> they are all integers, no decimal(if decimal number allowed/possible from a business perspective then float64)\n",
    "#number of open complaints     --> int64, there cannot be half complaints --> needs to fix the format \n",
    "#policy type                   (--> str / category)\n",
    "#vehicle class                 (--> str / category)\n",
    "#total claim amount           correct"
   ]
  },
  {
   "cell_type": "code",
   "execution_count": 5,
   "id": "e5126dd7",
   "metadata": {},
   "outputs": [
    {
     "name": "stdout",
     "output_type": "stream",
     "text": [
      "customer\n",
      "RB50392    1\n",
      "HJ15383    1\n",
      "AO74776    1\n",
      "HQ82233    1\n",
      "OL72737    1\n",
      "          ..\n",
      "RO26085    1\n",
      "ES57969    1\n",
      "JK55587    1\n",
      "RN97635    1\n",
      "MY31220    1\n",
      "Name: count, Length: 1071, dtype: int64\n"
     ]
    },
    {
     "data": {
      "text/plain": [
       "True"
      ]
     },
     "execution_count": 5,
     "metadata": {},
     "output_type": "execute_result"
    }
   ],
   "source": [
    "# check customer data, looks good, should be unique\n",
    "print(insurance_data['customer'].value_counts(dropna=False))\n",
    "len(insurance_data['customer'].value_counts(dropna=False)) == insurance_data['customer'].nunique()"
   ]
  },
  {
   "cell_type": "code",
   "execution_count": 6,
   "id": "70879fb7",
   "metadata": {},
   "outputs": [
    {
     "name": "stdout",
     "output_type": "stream",
     "text": [
      "st\n",
      "Oregon        320\n",
      "California    211\n",
      "Arizona       186\n",
      "Cali          120\n",
      "Nevada         98\n",
      "Washington     81\n",
      "WA             30\n",
      "AZ             25\n",
      "Name: count, dtype: int64\n"
     ]
    },
    {
     "data": {
      "text/plain": [
       "array(['Washington', 'Arizona', 'Nevada', 'California', 'Oregon', 'Cali',\n",
       "       'AZ', 'WA'], dtype=object)"
      ]
     },
     "execution_count": 6,
     "metadata": {},
     "output_type": "execute_result"
    }
   ],
   "source": [
    "# check state data, no null values, but mix of state name and abbreviation\n",
    "print(insurance_data['st'].value_counts(dropna=False))\n",
    "insurance_data['st'].unique()"
   ]
  },
  {
   "cell_type": "code",
   "execution_count": 7,
   "id": "4857efa1",
   "metadata": {},
   "outputs": [
    {
     "name": "stdout",
     "output_type": "stream",
     "text": [
      "st\n",
      "California    331\n",
      "Oregon        320\n",
      "Arizona       211\n",
      "Washington    111\n",
      "Nevada         98\n",
      "Name: count, dtype: int64\n"
     ]
    },
    {
     "data": {
      "text/plain": [
       "array(['Washington', 'Arizona', 'Nevada', 'California', 'Oregon'],\n",
       "      dtype=object)"
      ]
     },
     "execution_count": 7,
     "metadata": {},
     "output_type": "execute_result"
    }
   ],
   "source": [
    "# replace Abbreviations with long name\n",
    "insurance_data['st'] = insurance_data['st'].replace({'WA': 'Washington', 'AZ': 'Arizona', 'Cali': 'California'})\n",
    "\n",
    "# verify, state looks good\n",
    "print(insurance_data['st'].value_counts(dropna=False))\n",
    "insurance_data['st'].unique()"
   ]
  },
  {
   "cell_type": "code",
   "execution_count": 8,
   "id": "d725f3c0",
   "metadata": {},
   "outputs": [
    {
     "name": "stdout",
     "output_type": "stream",
     "text": [
      "gender\n",
      "F         457\n",
      "M         413\n",
      "NaN       117\n",
      "Male       39\n",
      "female     28\n",
      "Femal      17\n",
      "Name: count, dtype: int64\n"
     ]
    },
    {
     "data": {
      "text/plain": [
       "array([nan, 'F', 'M', 'Femal', 'Male', 'female'], dtype=object)"
      ]
     },
     "execution_count": 8,
     "metadata": {},
     "output_type": "execute_result"
    }
   ],
   "source": [
    "# check gender data, need to clean up femal and male + handle nan \n",
    "print(insurance_data['gender'].value_counts(dropna=False))\n",
    "insurance_data['gender'].unique()"
   ]
  },
  {
   "cell_type": "code",
   "execution_count": 9,
   "id": "297f671d",
   "metadata": {},
   "outputs": [
    {
     "data": {
      "text/plain": [
       "array(['O', 'F', 'M'], dtype=object)"
      ]
     },
     "execution_count": 9,
     "metadata": {},
     "output_type": "execute_result"
    }
   ],
   "source": [
    "insurance_data['gender'] = insurance_data['gender'].replace({'female': 'F', 'Femal': 'F', 'Male': 'M'})\n",
    "insurance_data['gender'].fillna('O', inplace=True)\n",
    "insurance_data['gender'].unique()"
   ]
  },
  {
   "cell_type": "code",
   "execution_count": 10,
   "id": "9ed46a03",
   "metadata": {},
   "outputs": [
    {
     "name": "stdout",
     "output_type": "stream",
     "text": [
      "gender\n",
      "F    502\n",
      "M    452\n",
      "O    117\n",
      "Name: count, dtype: int64\n"
     ]
    },
    {
     "data": {
      "text/plain": [
       "array(['O', 'F', 'M'], dtype=object)"
      ]
     },
     "execution_count": 10,
     "metadata": {},
     "output_type": "execute_result"
    }
   ],
   "source": [
    "# check gender data, three categories \n",
    "print(insurance_data['gender'].value_counts(dropna=False))\n",
    "insurance_data['gender'].unique()"
   ]
  },
  {
   "cell_type": "code",
   "execution_count": 11,
   "id": "1cca074b",
   "metadata": {},
   "outputs": [
    {
     "name": "stdout",
     "output_type": "stream",
     "text": [
      "education\n",
      "Bachelor                324\n",
      "College                 313\n",
      "High School or Below    296\n",
      "Master                   94\n",
      "Doctor                   37\n",
      "Bachelors                 7\n",
      "Name: count, dtype: int64\n"
     ]
    },
    {
     "data": {
      "text/plain": [
       "array(['Master', 'Bachelor', 'High School or Below', 'College',\n",
       "       'Bachelors', 'Doctor'], dtype=object)"
      ]
     },
     "execution_count": 11,
     "metadata": {},
     "output_type": "execute_result"
    }
   ],
   "source": [
    "# check education data, combine \n",
    "print(insurance_data['education'].value_counts(dropna=False))\n",
    "insurance_data['education'].unique()"
   ]
  },
  {
   "cell_type": "code",
   "execution_count": 12,
   "id": "c2772166",
   "metadata": {},
   "outputs": [
    {
     "name": "stdout",
     "output_type": "stream",
     "text": [
      "education\n",
      "Bachelor                331\n",
      "College                 313\n",
      "High School or Below    296\n",
      "Master                   94\n",
      "Doctor                   37\n",
      "Name: count, dtype: int64\n"
     ]
    },
    {
     "data": {
      "text/plain": [
       "array(['Master', 'Bachelor', 'High School or Below', 'College', 'Doctor'],\n",
       "      dtype=object)"
      ]
     },
     "execution_count": 12,
     "metadata": {},
     "output_type": "execute_result"
    }
   ],
   "source": [
    "#merge bachelor/s\n",
    "insurance_data['education'] = insurance_data['education'].replace({'Bachelors': 'Bachelor'})\n",
    "print(insurance_data['education'].value_counts(dropna=False))\n",
    "insurance_data['education'].unique()"
   ]
  },
  {
   "cell_type": "code",
   "execution_count": 13,
   "id": "85c1ae17",
   "metadata": {},
   "outputs": [
    {
     "name": "stdout",
     "output_type": "stream",
     "text": [
      "customer lifetime value\n",
      "445811.34%     4\n",
      "251459.20%     4\n",
      "NaN            3\n",
      "2412750.40%    3\n",
      "684615.03%     3\n",
      "              ..\n",
      "1210120.88%    1\n",
      "245357.08%     1\n",
      "507566.27%     1\n",
      "321497.94%     1\n",
      "899704.02%     1\n",
      "Name: count, Length: 1028, dtype: int64\n"
     ]
    },
    {
     "data": {
      "text/plain": [
       "array([nan, '697953.59%', '1288743.17%', ..., '2031499.76%', '323912.47%',\n",
       "       '899704.02%'], dtype=object)"
      ]
     },
     "execution_count": 13,
     "metadata": {},
     "output_type": "execute_result"
    }
   ],
   "source": [
    "# check customer lifetime value data, some NaN, why is there a %? based on the definition this should be a monetary value\n",
    "print(insurance_data['customer lifetime value'].value_counts(dropna=False))\n",
    "insurance_data['customer lifetime value'].unique()\n"
   ]
  },
  {
   "cell_type": "code",
   "execution_count": 14,
   "id": "5a2ba2af",
   "metadata": {},
   "outputs": [
    {
     "name": "stdout",
     "output_type": "stream",
     "text": [
      "float64\n"
     ]
    }
   ],
   "source": [
    "# remove all % characters\n",
    "insurance_data['customer lifetime value'] = insurance_data['customer lifetime value'].map(lambda x: x.replace('%', '') if isinstance(x, str) else x)\n",
    "# how do I handle the NaN? I do not know the calculation behind the value--> check some basic facts to see what the data is like \n",
    "# convert to float64 so I can do numeric operations\n",
    "insurance_data['customer lifetime value'] = pd.to_numeric(insurance_data['customer lifetime value'], errors=\"coerce\")\n",
    "print(insurance_data['customer lifetime value'].dtype)"
   ]
  },
  {
   "cell_type": "code",
   "execution_count": 15,
   "id": "ce0f1cf7",
   "metadata": {},
   "outputs": [
    {
     "data": {
      "text/plain": [
       "array([ 697953.59, 1288743.17,  764586.18, ..., 2031499.76,  323912.47,\n",
       "        899704.02])"
      ]
     },
     "execution_count": 15,
     "metadata": {},
     "output_type": "execute_result"
    }
   ],
   "source": [
    "# get basisc characteristics\n",
    "insurance_data['customer lifetime value'].describe()\n",
    "# based on how big the spread is (mean 7.9, median 5.88 + standard deviation) I am dropping the NaN values\n",
    "insurance_data.dropna(subset=['customer lifetime value'], inplace=True)\n",
    "# verify\n",
    "insurance_data['customer lifetime value'].unique()"
   ]
  },
  {
   "cell_type": "code",
   "execution_count": 16,
   "id": "bb5d6864",
   "metadata": {},
   "outputs": [
    {
     "name": "stdout",
     "output_type": "stream",
     "text": [
      "income\n",
      "0.0        251\n",
      "43860.0      4\n",
      "17622.0      4\n",
      "36650.0      3\n",
      "14072.0      3\n",
      "          ... \n",
      "29486.0      1\n",
      "58557.0      1\n",
      "25632.0      1\n",
      "18768.0      1\n",
      "54230.0      1\n",
      "Name: count, Length: 772, dtype: int64\n"
     ]
    },
    {
     "data": {
      "text/plain": [
       "array([    0., 48767., 36357., 62902., 55350., 14072., 28812., 77026.,\n",
       "       99845., 83689., 24599., 25049., 28855., 51148., 66140., 57749.,\n",
       "       61040., 17870., 97541., 29723., 86584., 75690., 23158., 65999.,\n",
       "       37260., 68987., 42305., 65706., 53243., 50071., 60021., 43244.,\n",
       "       46896., 10105., 23218., 24804., 33190., 36014., 67163., 16701.,\n",
       "       46623., 64749., 16969., 11621., 17622., 11489., 66525., 33663.,\n",
       "       22547., 61486., 29879., 93011., 65186., 26840., 75644., 38984.,\n",
       "       71811., 20961., 61321., 51066., 34378., 43072., 25222., 77552.,\n",
       "       23091., 48269., 32720., 20396., 21513., 80744., 52822., 69738.,\n",
       "       17780., 18107., 57740., 32627., 65795., 60475., 41837., 32303.,\n",
       "       40531., 79898., 56398., 71600., 27804., 45506., 99428., 20993.,\n",
       "       37839., 92711., 74665., 61108., 46833., 88768., 28262., 33555.,\n",
       "       42780., 58850., 21880., 25251., 25317., 24188., 41611., 28406.,\n",
       "       69833., 80536., 88891., 97732., 61222., 50335., 82210., 64495.,\n",
       "       28859., 77330., 33060., 42557., 26372., 17514., 89270., 29757.,\n",
       "       51814., 24028., 28142., 52705., 54040., 22492., 21876., 70699.,\n",
       "       27501., 15897., 25141., 28358., 62530., 90972., 63110., 29549.,\n",
       "       39411., 21709., 67890., 84311., 99316., 54507., 64586., 61709.,\n",
       "       94656., 61085., 89284., 31686., 56855., 53703., 27679., 23904.,\n",
       "       65351., 64459., 32961., 71416., 68964., 78108., 10621., 84910.,\n",
       "       77493., 81097., 96610., 30110., 22081., 98473., 97431., 93870.,\n",
       "       50366., 34498., 16552., 26787., 43860., 21474., 18174., 60920.,\n",
       "       41520., 72208., 53863., 66446., 64997., 64460., 46618., 49988.,\n",
       "       16269., 72006., 44320., 19782., 63933., 28224., 21073., 63243.,\n",
       "       94827., 39161., 37534., 80210., 21708., 94731., 32375., 16531.,\n",
       "       32006., 81676., 71038., 20832., 52405., 26583., 25486., 24065.,\n",
       "       70435., 39679., 53565., 37574., 48259., 78532., 96163., 72672.,\n",
       "       99002., 79494., 35704., 26049., 70125., 52369., 41770., 31911.,\n",
       "       70051., 19683., 30916., 84302., 60145., 63774., 25134., 37057.,\n",
       "       58577., 85857., 70602., 33816., 89642., 60068., 50044., 36650.,\n",
       "       50653., 68931., 39266., 40864., 39035., 34923., 24506., 52220.,\n",
       "       53554., 34476., 68205., 53690., 74454., 29664., 72450., 47272.,\n",
       "       21585., 23827., 69906., 73196., 72217., 46131., 54514., 96668.,\n",
       "       78879., 29735., 23082., 53984., 52135., 17576., 29486., 58557.,\n",
       "       25632., 18768., 47945., 58778., 15192., 51859., 23422., 21604.,\n",
       "       79298., 76731., 38460., 48534., 30817., 48412., 68798., 23712.,\n",
       "       72196., 68197., 75248., 89879., 46998., 57099., 33897., 59207.,\n",
       "       40171., 80192., 74422., 34226., 65989., 30686., 20090., 77094.,\n",
       "       97413., 79189., 18577., 62777., 17483., 84394., 41440., 98132.,\n",
       "       88220., 58327., 25950., 65726., 84768., 36234., 58842., 25629.,\n",
       "       77311., 95697., 22254., 65974., 92079., 67752., 25398., 33321.,\n",
       "       38923., 20325., 13129., 49080., 42536., 29926., 21450., 33345.,\n",
       "       15752., 40169., 55411., 12459., 64620., 83140., 54422., 68309.,\n",
       "       56621., 38977., 83235., 32390., 66538., 23285., 76358., 21104.,\n",
       "       12964., 33288., 56168., 23105., 36218., 52275., 49665., 32471.,\n",
       "       62773., 76694., 55687., 36633., 77060., 92600., 64801., 45257.,\n",
       "       26854., 85840., 26463., 30689., 29590., 25965., 17269., 90330.,\n",
       "       18558., 46384., 42303., 71731., 26173., 24445., 72302., 27208.,\n",
       "       30855., 99960., 55873., 18052., 28937., 12829., 92163., 17588.,\n",
       "       41546., 70340., 34549., 93459., 86148., 27048., 73259., 35482.,\n",
       "       29462., 67801., 16042., 28056., 16495., 41163., 33799., 90125.,\n",
       "       87747., 35695., 90985., 66839., 79090., 24825., 26806., 56835.,\n",
       "       46135., 22862., 95854., 44897., 64455., 53265., 50450., 54780.,\n",
       "       67798., 21442., 27615., 50200., 73570., 70412., 36631., 35895.,\n",
       "       93018., 70014., 48875., 67969., 68665., 26802., 45345., 89689.,\n",
       "       32051., 81139., 63834., 37548., 72421., 83102., 28432., 83707.,\n",
       "       63259., 63860., 43836., 86132., 28519., 39102., 97298., 41986.,\n",
       "       17291., 37256., 96306., 14290., 37038., 90760., 77048., 54480.,\n",
       "       16244., 22436., 71592., 28728., 57449., 83318., 75217., 55308.,\n",
       "       36068., 48804., 55790., 70258., 47274., 44705., 70446., 64348.,\n",
       "       88997., 10312., 96263., 28919., 41869., 32808., 79780., 91025.,\n",
       "       33043., 69442., 47234., 86863., 25805., 43676., 59855., 35296.,\n",
       "       36576., 28513., 85448., 23791., 20597., 56940., 93210., 48992.,\n",
       "       53736., 25378., 37722., 69379., 33806., 94041., 74965., 34095.,\n",
       "       96045., 86355., 27824., 42995., 21235., 74585., 41833., 23908.,\n",
       "       61953., 73760., 23333., 20440., 27658., 50943., 19003., 46703.,\n",
       "       21733., 20811., 11904., 43490., 57340., 49088., 47761., 61281.,\n",
       "       25290., 24239., 82664., 83210., 38736., 55437., 68041., 29066.,\n",
       "       54337., 67616., 41082., 50631., 19592., 55761., 41449., 62007.,\n",
       "       21921., 42621., 63786., 82877., 10475., 21952., 49721., 88340.,\n",
       "       24589., 73769., 66670., 88854., 31266., 67267., 79270., 36692.,\n",
       "       44624., 19614., 83846., 51159., 83772., 88440., 25666., 52926.,\n",
       "       40001., 18024., 23220., 64125., 58042., 90034., 27972., 50989.,\n",
       "       11885., 89451., 78904., 70247., 32653., 93595., 90279., 53310.,\n",
       "       22234., 91375., 22250., 51179., 38667., 79487., 67763., 71943.,\n",
       "       53526., 35005., 24721., 48587., 76310., 73205., 51056., 58414.,\n",
       "       23940., 44216., 29305., 53882., 91757., 33906., 68158., 42165.,\n",
       "       68074., 84978., 71135., 64642., 46754., 70410., 66957., 24213.,\n",
       "       99790., 79751., 86122., 82297., 89057., 43259., 25064., 25816.,\n",
       "       41662., 96170., 46072., 37931., 35127., 45473., 93087., 22398.,\n",
       "       92983., 27689., 69654., 18608., 73168., 70930., 62262., 91474.,\n",
       "       61469., 16618., 48081., 67632., 34115., 23051., 23748., 40589.,\n",
       "       50809., 66676., 52339., 14973., 31546., 20836., 88592., 66943.,\n",
       "       81872., 22404., 21342., 34621., 62396., 97212., 49648., 97984.,\n",
       "       26308., 63528., 20225., 87620., 34990., 99934., 60804., 94648.,\n",
       "       24516., 61063., 15169., 55390., 27592., 61846., 83297., 55897.,\n",
       "       21297., 87560., 89398., 36843., 34946., 75680., 49532., 10269.,\n",
       "       49714., 77517., 81082., 72540., 61546., 44818., 79797., 92717.,\n",
       "       63568., 73935., 18846., 38893., 84824., 20068., 97245., 51808.,\n",
       "       71391., 23496., 23986., 22974., 61844., 27760., 52266., 23599.,\n",
       "       36088., 70534., 27398., 85296., 31063., 52367., 58651., 84831.,\n",
       "       70263., 45354., 28334., 38772., 41479., 23909., 48328., 86689.,\n",
       "       24204., 25943., 62375., 70200., 79027., 62935., 26893., 47406.,\n",
       "       27572., 32802., 62739., 90844., 44685., 42589., 93383., 79583.,\n",
       "       89129., 94389., 84106., 76717., 51978., 47325., 86721., 24910.,\n",
       "       43817., 59537., 54193., 86946., 12160., 33701., 85702., 69417.,\n",
       "       38644., 63209., 16061., 54230.])"
      ]
     },
     "execution_count": 16,
     "metadata": {},
     "output_type": "execute_result"
    }
   ],
   "source": [
    "# check income, there are 251 set as 0 --> can this be seen as NaN-- someone choosing not to answer? \n",
    "# I would want to set these to an average as they will heavily influence the median + mean\n",
    "print(insurance_data['income'].value_counts(dropna=False))\n",
    "insurance_data['income'].unique()"
   ]
  },
  {
   "cell_type": "code",
   "execution_count": 17,
   "id": "16fbd6e8",
   "metadata": {},
   "outputs": [
    {
     "name": "stdout",
     "output_type": "stream",
     "text": [
      "monthly premium auto\n",
      "65.0     47\n",
      "63.0     38\n",
      "73.0     37\n",
      "67.0     37\n",
      "71.0     37\n",
      "         ..\n",
      "177.0     1\n",
      "181.0     1\n",
      "276.0     1\n",
      "253.0     1\n",
      "199.0     1\n",
      "Name: count, Length: 131, dtype: int64\n"
     ]
    },
    {
     "data": {
      "text/plain": [
       "array([   94.,   108.,   106.,    68.,    69.,    67.,   101.,    71.,\n",
       "          93.,   110.,    70.,    64.,    72.,    74.,    79.,    73.,\n",
       "          61.,   111.,    80.,    63.,   237.,    65.,   130.,    62.,\n",
       "         117.,    91.,    90.,    66.,    99.,   103., 35354.,   172.,\n",
       "          92.,   104.,   113.,   124.,   105.,   100.,   112.,    97.,\n",
       "          95.,   102.,   186.,    77.,    96.,    76.,   119.,    87.,\n",
       "         109.,   107.,    88.,    85.,  6464.,   133.,    86.,    78.,\n",
       "          89.,   192.,   118.,   140.,   127.,   126.,    82.,   115.,\n",
       "         217.,   114.,   138.,    81.,   255.,   150.,   123.,   116.,\n",
       "         190.,    98.,   159.,    84.,    83.,   152.,   136.,   245.,\n",
       "         135.,  1005.,   225.,   132.,   153.,   121.,   139.,   154.,\n",
       "         161.,   156.,   171.,   244.,   183.,   176.,   230.,   129.,\n",
       "         177.,   181.,   196.,   131.,   276.,   253.,   137.,   180.,\n",
       "         203.,   147.,   165.,   198.,   125.,   193.,   128.,   271.,\n",
       "         142., 10202.,   206.,   182.,   189.,   160.,   295.,   210.,\n",
       "         134., 35353.,   239.,   188.,   256.,   173.,   285.,   148.,\n",
       "         141.,   197.,   199.])"
      ]
     },
     "execution_count": 17,
     "metadata": {},
     "output_type": "execute_result"
    }
   ],
   "source": [
    "# check monthly premium auto, looks good\n",
    "print(insurance_data['monthly premium auto'].value_counts(dropna=False))\n",
    "insurance_data['monthly premium auto'].unique()"
   ]
  },
  {
   "cell_type": "code",
   "execution_count": 18,
   "id": "5fd56d05",
   "metadata": {},
   "outputs": [
    {
     "name": "stdout",
     "output_type": "stream",
     "text": [
      "number of open complaints\n",
      "1/0/00    827\n",
      "1/1/00    138\n",
      "1/2/00     50\n",
      "1/3/00     34\n",
      "1/4/00     13\n",
      "1/5/00      6\n",
      "Name: count, dtype: int64\n"
     ]
    },
    {
     "data": {
      "text/plain": [
       "array(['1/0/00', '1/2/00', '1/1/00', '1/3/00', '1/5/00', '1/4/00'],\n",
       "      dtype=object)"
      ]
     },
     "execution_count": 18,
     "metadata": {},
     "output_type": "execute_result"
    }
   ],
   "source": [
    "# check number of open complaints, formatting wrong\n",
    "print(insurance_data['number of open complaints'].value_counts(dropna=False))\n",
    "# pattern-- middle mummer increaeses --> that should be the number we want \n",
    "insurance_data['number of open complaints'].unique()"
   ]
  },
  {
   "cell_type": "code",
   "execution_count": 19,
   "id": "77f72758",
   "metadata": {},
   "outputs": [],
   "source": [
    "# change nan \n",
    "insurance_data['gender'].fillna('O', inplace=True)"
   ]
  },
  {
   "cell_type": "code",
   "execution_count": 20,
   "id": "6f057556",
   "metadata": {},
   "outputs": [
    {
     "name": "stdout",
     "output_type": "stream",
     "text": [
      "number of open complaints\n",
      "0    827\n",
      "1    138\n",
      "2     50\n",
      "3     34\n",
      "4     13\n",
      "5      6\n",
      "Name: count, dtype: int64\n"
     ]
    }
   ],
   "source": [
    "# grab middle part by using map and lambda \n",
    "insurance_data['number of open complaints'] = insurance_data['number of open complaints'].map(lambda x: int(x.split('/')[1]))\n",
    "# verify, all good now \n",
    "print(insurance_data['number of open complaints'].value_counts(dropna=False))\n",
    "#explicitly change type\n",
    "#insurance_data['number of open complaints'] = pd.to_numeric(insurance_data['number of open complaints'], errors=\"coerce\")\n"
   ]
  },
  {
   "cell_type": "code",
   "execution_count": 21,
   "id": "50c7b84d",
   "metadata": {},
   "outputs": [
    {
     "name": "stdout",
     "output_type": "stream",
     "text": [
      "policy type\n",
      "Personal Auto     777\n",
      "Corporate Auto    234\n",
      "Special Auto       57\n",
      "Name: count, dtype: int64\n"
     ]
    },
    {
     "data": {
      "text/plain": [
       "array(['Personal Auto', 'Corporate Auto', 'Special Auto'], dtype=object)"
      ]
     },
     "execution_count": 21,
     "metadata": {},
     "output_type": "execute_result"
    }
   ],
   "source": [
    "# check policy type, looks good \n",
    "print(insurance_data['policy type'].value_counts(dropna=False))\n",
    "insurance_data['policy type'].unique()"
   ]
  },
  {
   "cell_type": "code",
   "execution_count": 22,
   "id": "a9495734",
   "metadata": {},
   "outputs": [
    {
     "name": "stdout",
     "output_type": "stream",
     "text": [
      "total claim amount\n",
      "321.600000    19\n",
      "331.200000    15\n",
      "312.000000    14\n",
      "350.400000    14\n",
      "316.800000    12\n",
      "              ..\n",
      "430.505942     1\n",
      "7.646763       1\n",
      "55.510526      1\n",
      "351.270869     1\n",
      "207.320041     1\n",
      "Name: count, Length: 758, dtype: int64\n"
     ]
    },
    {
     "data": {
      "text/plain": [
       "array([1.13146493e+03, 5.66472247e+02, 5.29881344e+02, 1.72693230e+01,\n",
       "       1.59383042e+02, 3.21600000e+02, 3.63029680e+02, 5.11200000e+02,\n",
       "       4.25527834e+02, 4.82400000e+02, 5.28000000e+02, 4.72029737e+02,\n",
       "       3.07139132e+02, 4.29202710e+01, 4.54245098e+02, 6.47442031e+02,\n",
       "       3.08981664e+02, 4.84800000e+02, 3.55200000e+02, 2.03828760e+01,\n",
       "       5.54376763e+02, 4.39200000e+02, 3.89185006e+02, 7.99200000e+02,\n",
       "       2.09851050e+01, 5.32800000e+02, 3.84000000e+02, 3.22294043e+02,\n",
       "       6.15927769e+02, 3.08150890e+02, 2.38201580e+01, 1.54376810e+01,\n",
       "       2.04475147e+02, 5.61600000e+02, 4.36800000e+02, 6.48000000e+02,\n",
       "       1.57397849e+02, 4.84318536e+02, 1.89189350e+01, 8.82871945e+02,\n",
       "       4.94400000e+02, 3.17073170e+01, 5.17753000e-01, 5.79165954e+02,\n",
       "       4.47793440e+02, 5.29624084e+02, 3.13023175e+02, 5.93830288e+02,\n",
       "       5.08800000e+02, 1.73956072e+02, 3.31928030e+01, 8.31625979e+02,\n",
       "       3.02565190e+02, 7.04768111e+02, 5.18400000e+02, 3.12000000e+02,\n",
       "       5.04000000e+02, 8.63327324e+02, 1.04331355e+02, 6.76391482e+02,\n",
       "       3.50400000e+02, 5.37600000e+02, 4.65258644e+02, 4.56000000e+02,\n",
       "       5.00254235e+02, 2.81451042e+02, 5.43450500e+00, 3.07200000e+02,\n",
       "       9.82399613e+02, 4.67803638e+02, 2.90341600e+01, 4.27631210e+02,\n",
       "       2.58076850e+01, 7.87993313e+02, 4.89600000e+02, 3.02400000e+02,\n",
       "       4.75623251e+02, 4.52150590e+01, 4.60800000e+02, 2.82151207e+02,\n",
       "       3.64800000e+02, 6.79827592e+02, 4.60414520e+01, 1.18790370e+01,\n",
       "       3.50529033e+02, 8.63394700e+02, 4.92127532e+02, 1.32588288e+02,\n",
       "       2.97600000e+02, 2.69905129e+02, 3.80036697e+02, 5.13600000e+02,\n",
       "       4.25266308e+02, 4.90110990e+01, 9.36000000e+02, 1.42062768e+02,\n",
       "       4.51525210e+01, 3.05673570e+01, 2.71606799e+02, 4.08000000e+02,\n",
       "       4.61581170e+01, 7.84800000e+02, 3.16800000e+02, 4.80468690e+01,\n",
       "       6.38400000e+02, 4.65633954e+02, 3.68400146e+02, 2.36902001e+02,\n",
       "       4.94511170e+01, 6.41096630e+01, 3.26400000e+02, 9.21600000e+02,\n",
       "       1.01896450e+02, 5.42400000e+02, 1.43747794e+02, 4.24077159e+02,\n",
       "       5.04221810e+01, 5.23200000e+02, 1.13801497e+02, 1.92875720e+02,\n",
       "       8.28662719e+02, 9.75107098e+02, 5.37987080e+01, 5.05283550e+01,\n",
       "       2.89912200e+02, 3.92604371e+02, 7.21242206e+02, 4.56523850e+02,\n",
       "       1.08799543e+03, 5.19619150e+01, 2.51992083e+02, 3.45600000e+02,\n",
       "       9.92576080e+01, 5.67315780e+01, 5.75623240e+01, 6.04800000e+02,\n",
       "       8.31272900e+00, 3.16599228e+02, 5.63007240e+01, 3.93600000e+02,\n",
       "       7.01708239e+02, 1.28705563e+02, 6.79368378e+02, 5.99871260e+01,\n",
       "       5.66400000e+02, 6.16542620e+01, 5.54400000e+02, 4.65414770e+02,\n",
       "       4.96800000e+02, 2.92800000e+02, 2.56813837e+02, 5.42319401e+02,\n",
       "       3.03148399e+02, 2.54380630e+01, 8.40244130e+01, 6.16937710e+01,\n",
       "       2.32926145e+02, 6.81797210e+01, 7.10433775e+02, 5.52000000e+02,\n",
       "       1.12265890e+03, 4.08374746e+02, 7.92000000e+02, 7.54358929e+02,\n",
       "       7.02990032e+02, 2.06837111e+02, 2.75395894e+02, 4.59738128e+02,\n",
       "       3.36000000e+02, 4.30994107e+02, 1.83600000e+03, 6.76324760e+01,\n",
       "       8.44481918e+02, 7.22486994e+02, 5.90400000e+02, 4.81027516e+02,\n",
       "       1.12442773e+03, 6.69682001e+02, 1.28409317e+03, 2.40259479e+02,\n",
       "       9.12000000e+02, 5.56800000e+02, 1.15086827e+02, 4.70400000e+02,\n",
       "       3.83167471e+02, 3.07963291e+02, 5.20364752e+02, 4.66436375e+02,\n",
       "       4.51670309e+02, 3.31200000e+02, 4.28734656e+02, 3.98400000e+02,\n",
       "       3.69600000e+02, 8.31752839e+02, 1.56124914e+02, 3.73428187e+02,\n",
       "       3.95934815e+02, 2.31201886e+02, 2.89904105e+02, 7.29600000e+02,\n",
       "       1.05765111e+02, 6.39464548e+02, 3.83442328e+02, 9.90859430e+01,\n",
       "       5.66935022e+02, 4.12800000e+02, 3.88800000e+02, 2.34541344e+03,\n",
       "       7.73470977e+02, 4.24883448e+02, 3.64240307e+02, 3.54729129e+02,\n",
       "       2.83995953e+02, 4.03200000e+02, 2.05431760e+01, 3.85115437e+02,\n",
       "       1.40165035e+02, 1.02879769e+02, 5.68682890e+01, 4.63158502e+02,\n",
       "       2.05444066e+02, 7.41600000e+02, 5.63719670e+01, 8.13600000e+02,\n",
       "       7.95864079e+02, 6.14400000e+02, 7.24386810e+01, 6.78815460e+01,\n",
       "       4.02636829e+02, 6.41388616e+02, 3.42481173e+02, 3.40800000e+02,\n",
       "       4.12101933e+02, 7.37005730e+01, 3.74400000e+02, 7.22024742e+02,\n",
       "       2.59361117e+02, 3.96295614e+02, 3.58281562e+02, 6.53388564e+02,\n",
       "       1.21032372e+02, 9.28133960e+01, 1.59636956e+02, 4.76156957e+02,\n",
       "       7.27200000e+02, 4.20783450e+01, 2.00116060e+02, 6.76944023e+02,\n",
       "       7.66092950e+01, 8.30623064e+02, 5.80473259e+02, 6.00366830e+01,\n",
       "       4.75310100e+01, 3.03872752e+02, 1.00620067e+02, 4.81339891e+02,\n",
       "       1.10160000e+03, 8.63200220e+01, 6.67200000e+02, 5.66033300e+01,\n",
       "       2.62865172e+02, 3.09577946e+02, 3.65364581e+02, 7.05600000e+02,\n",
       "       9.51528000e+00, 2.44564334e+02, 6.39105556e+02, 4.53600000e+02,\n",
       "       5.54522969e+02, 4.02449823e+02, 3.27020539e+02, 5.39530000e+00,\n",
       "       1.31401291e+02, 9.93829430e+01, 8.56800000e+02, 7.39200000e+02,\n",
       "       8.42183630e+01, 6.45468770e+01, 4.41600000e+02, 3.79106230e+01,\n",
       "       2.02860399e+02, 8.58098170e+01, 9.11466610e+01, 2.86234931e+02,\n",
       "       1.15920000e+03, 4.66570791e+02, 1.25240623e+03, 4.21484456e+02,\n",
       "       4.30505942e+02, 3.98502948e+02, 7.64676300e+00, 5.55105260e+01,\n",
       "       3.51270869e+02, 8.06400000e+02, 6.47454583e+02, 1.28438230e+02,\n",
       "       3.02033971e+02, 4.80000000e+02, 1.00316063e+03, 3.79200000e+02,\n",
       "       2.44362072e+02, 2.01455005e+02, 9.15509800e+01, 9.18346680e+01,\n",
       "       7.07430832e+02, 9.29152510e+01, 3.76126419e+02, 1.52184244e+02,\n",
       "       1.76819414e+02, 1.04454624e+02, 9.41718054e+02, 4.68000000e+02,\n",
       "       9.40303080e+01, 6.78598810e+01, 5.39843003e+02, 9.51931570e+01,\n",
       "       9.53385050e+01, 6.26400000e+02, 4.94395024e+02, 1.15545086e+02,\n",
       "       1.99389810e+01, 7.99926741e+02, 8.78400000e+02, 4.44470676e+02,\n",
       "       2.68819985e+02, 1.01288069e+02, 1.31760000e+03, 6.91412378e+02,\n",
       "       8.04811859e+02, 1.09086434e+03, 5.05870350e+01, 1.51528482e+02,\n",
       "       3.47075948e+02, 2.71697529e+02, 8.49600000e+02, 1.10484661e+02,\n",
       "       1.13534474e+02, 5.95200000e+02, 1.13609508e+02, 1.33706349e+03,\n",
       "       1.14273025e+02, 1.25194389e+02, 2.35220971e+02, 3.95341110e+02,\n",
       "       1.14798771e+02, 7.72798511e+02, 6.33600000e+02, 1.68517149e+02,\n",
       "       8.45654042e+02, 1.15728852e+02, 6.68293970e+02, 7.00901632e+02,\n",
       "       5.25600000e+02, 2.52990000e+01, 3.75330097e+02, 4.18233667e+02,\n",
       "       3.98240791e+02, 9.38513425e+02, 3.38619869e+02, 3.39344531e+02,\n",
       "       3.02818833e+02, 6.19165344e+02, 2.59561195e+02, 1.79161843e+02,\n",
       "       6.62400000e+02, 7.55018520e+01, 3.06983596e+02, 8.40268480e+01,\n",
       "       1.39489926e+02, 6.07445900e+02, 6.31124372e+02, 6.28023494e+02,\n",
       "       4.26655599e+02, 9.14179230e+01, 3.17844812e+02, 1.18446235e+02,\n",
       "       8.64615820e+01, 1.18454974e+02, 3.62774545e+02, 2.21856184e+02,\n",
       "       9.80169081e+02, 6.14675906e+02, 1.45252168e+02, 3.74240783e+02,\n",
       "       6.19200000e+02, 8.06692570e+01, 1.32480000e+03, 4.68566133e+02,\n",
       "       8.42437850e+02, 4.75200000e+02, 1.17193117e+03, 2.68471802e+02,\n",
       "       1.38722385e+02, 4.67248020e+02, 4.67503236e+02, 1.21440000e+03,\n",
       "       1.92085299e+02, 6.19973889e+02, 1.00278255e+03, 2.51774574e+02,\n",
       "       8.66208321e+02, 1.21092095e+03, 5.99648466e+02, 2.02772444e+03,\n",
       "       7.28520470e+01, 4.49819671e+02, 2.59060862e+02, 2.99356083e+02,\n",
       "       6.99167900e+02, 1.17959654e+02, 5.45240341e+02, 3.28231432e+02,\n",
       "       6.65686420e+01, 1.38240000e+03, 1.21306839e+02, 6.09600000e+02,\n",
       "       1.25933005e+02, 6.55413330e+02, 6.73342650e+02, 2.38104910e+01,\n",
       "       4.51200000e+02, 2.31922173e+02, 7.72800000e+02, 6.64980242e+02,\n",
       "       1.28645946e+02, 4.64920390e+01, 4.32000000e+02, 7.80851490e+01,\n",
       "       5.64466556e+02, 2.89040734e+02, 1.55938593e+02, 3.26549425e+02,\n",
       "       6.53656680e+02, 1.03935601e+02, 8.09532341e+02, 5.80725310e+02,\n",
       "       1.33735395e+02, 2.38005074e+02, 1.57767442e+03, 1.35892444e+02,\n",
       "       1.35261250e+02, 5.71200000e+02, 6.37063458e+02, 7.59360960e+01,\n",
       "       1.36291083e+02, 6.75309040e+01, 3.12921256e+02, 1.66937747e+02,\n",
       "       1.35382194e+02, 1.77429540e+01, 1.83836700e+00, 1.97776009e+02,\n",
       "       6.12102262e+02, 1.19303615e+03, 6.00000000e+02, 1.36829537e+02,\n",
       "       9.26400000e+02, 3.92636400e+02, 2.15226476e+02, 1.60598662e+02,\n",
       "       3.71803029e+02, 4.43670399e+02, 6.12300581e+02, 2.90391526e+02,\n",
       "       3.16795337e+02, 4.05527937e+02, 2.08598246e+02, 1.38130879e+02,\n",
       "       3.01437365e+02, 4.56473115e+02, 1.52338562e+02, 4.91755368e+02,\n",
       "       4.85174390e+01, 4.30375049e+02, 2.46489123e+02, 1.28969729e+02,\n",
       "       1.85355353e+02, 1.30080000e+03, 9.07130500e+00, 1.33475315e+02,\n",
       "       1.41199465e+02, 6.23223617e+02, 4.27200000e+02, 1.41725051e+02,\n",
       "       2.11336937e+02, 1.47080303e+02, 8.62762957e+02, 1.13367765e+02,\n",
       "       9.43200000e+02, 1.17672722e+02, 2.25145949e+02, 1.82432565e+02,\n",
       "       1.48173152e+02, 1.55570802e+02, 2.12391975e+02, 1.74041566e+02,\n",
       "       4.86278557e+02, 1.92470900e+00, 2.62122050e+02, 5.41695658e+02,\n",
       "       3.27682669e+02, 1.26557030e+03, 6.30431970e+01, 1.56313630e+01,\n",
       "       3.75866091e+02, 4.52616872e+02, 1.13450122e+02, 1.60345100e+01,\n",
       "       6.15272280e+02, 6.15256301e+02, 5.12662450e+02, 7.45239350e+01,\n",
       "       4.26072946e+02, 1.69287785e+02, 4.19464143e+02, 1.58077504e+02,\n",
       "       6.69600000e+02, 3.95729716e+02, 1.59756733e+02, 5.85575520e+01,\n",
       "       8.58297100e+00, 2.85418473e+02, 4.10508316e+02, 2.44231350e+02,\n",
       "       2.18598065e+02, 6.43826716e+02, 4.97047297e+02, 1.02240000e+03,\n",
       "       6.57600000e+02, 2.30245772e+02, 5.62275100e+00, 1.60075260e+02,\n",
       "       3.46513050e+01, 6.78100487e+02, 1.74588413e+02, 1.59391681e+02,\n",
       "       6.98400000e+02, 2.32711071e+02, 1.63046956e+02, 7.98656050e+01,\n",
       "       3.82085897e+02, 4.83483190e+01, 1.33425609e+02, 5.61414794e+02,\n",
       "       4.45287788e+02, 1.65570243e+02, 4.07996840e+02, 8.44229478e+02,\n",
       "       3.40306584e+02, 1.06647493e+02, 6.26116259e+02, 7.84657810e+02,\n",
       "       5.47200000e+02, 8.62777200e+01, 6.35165720e+01, 1.20015609e+02,\n",
       "       1.25413790e+03, 4.17600000e+02, 7.98002689e+02, 8.20416840e+01,\n",
       "       2.28190880e+01, 4.22400000e+02, 6.39971388e+02, 5.11497882e+02,\n",
       "       2.39540223e+02, 5.18180364e+02, 7.15252366e+02, 4.02070719e+02,\n",
       "       9.48140320e+01, 9.72000000e+02, 7.38830440e+01, 5.74024018e+02,\n",
       "       6.32715382e+02, 4.23862600e+00, 4.22480870e+01, 2.71451510e+01,\n",
       "       2.70002766e+02, 4.94946438e+02, 1.42567008e+02, 2.51334247e+02,\n",
       "       3.69818708e+02, 1.61419528e+02, 2.55999709e+02, 6.17695640e+01,\n",
       "       1.31040000e+03, 2.50001424e+02, 1.41799422e+02, 4.97970160e+01,\n",
       "       3.72175592e+02, 5.42143850e+02, 1.36080000e+03, 7.68000000e+02,\n",
       "       7.26329340e+01, 7.20601429e+02, 5.76000000e+02, 4.81025786e+02,\n",
       "       4.66176731e+02, 1.59266473e+02, 4.12831670e+01, 5.03808329e+02,\n",
       "       8.59599411e+02, 3.05653785e+02, 2.78902846e+02, 1.41600000e+03,\n",
       "       1.39963594e+02, 7.34400000e+02, 3.72998650e+01, 9.58165160e+01,\n",
       "       1.00800000e+03, 4.46400000e+02, 7.22053620e+01, 4.01592109e+02,\n",
       "       2.53183568e+02, 6.43200000e+02, 7.99673766e+02, 2.79878670e+01,\n",
       "       1.66772960e+02, 2.70563995e+02, 1.78006524e+02, 4.04265696e+02,\n",
       "       5.13818403e+02, 1.31828507e+02, 6.28800000e+02, 1.78986788e+02,\n",
       "       3.92235698e+02, 8.73600000e+02, 3.82107000e-01, 1.87363583e+02,\n",
       "       3.50853987e+02, 2.17973168e+02, 2.59340640e+01, 1.88938397e+02,\n",
       "       1.53205591e+02, 2.89323968e+03, 6.29532731e+02, 3.61284757e+02,\n",
       "       1.18598830e+03, 4.25800112e+02, 1.90434460e+02, 1.93505325e+02,\n",
       "       2.40877740e+01, 2.19288706e+02, 8.81360959e+02, 2.69516270e+01,\n",
       "       4.66122541e+02, 6.07095655e+02, 2.90381707e+02, 5.58099357e+02,\n",
       "       8.28000000e+02, 5.40514115e+02, 1.00049832e+02, 5.98619630e+01,\n",
       "       1.93570320e+02, 1.99797270e+02, 5.30847530e+01, 2.56438030e+02,\n",
       "       2.11136067e+02, 7.43508930e+01, 6.21464468e+02, 3.60055890e+02,\n",
       "       6.59548130e+01, 4.07450118e+02, 1.22880000e+03, 2.40636930e+01,\n",
       "       3.11329282e+02, 4.26891350e+01, 4.60323855e+02, 2.13225001e+02,\n",
       "       3.00607591e+02, 2.62504882e+02, 2.63365432e+02, 2.56268091e+02,\n",
       "       2.15818200e+02, 1.35360000e+03, 4.99200000e+02, 4.55079520e+01,\n",
       "       6.91200000e+02, 8.24099220e+01, 3.57642982e+02, 4.20356980e+02,\n",
       "       1.36787725e+02, 2.20186677e+02, 1.70798204e+02, 2.66165535e+02,\n",
       "       9.89217820e+01, 2.81295903e+02, 6.31743039e+02, 2.92095210e+01,\n",
       "       1.36883999e+02, 3.17556010e+01, 2.24275820e+02, 8.30400000e+02,\n",
       "       4.80159011e+02, 3.90792553e+02, 7.20711950e+01, 4.19652520e+01,\n",
       "       1.02700003e+03, 3.19820747e+02, 4.11011162e+02, 4.11058500e+00,\n",
       "       3.51149904e+02, 2.84000172e+02, 4.96474767e+02, 9.25137143e+02,\n",
       "       1.31640970e+01, 4.63335061e+02, 1.80667969e+02, 3.02764283e+02,\n",
       "       1.41922839e+02, 3.49783046e+02, 5.40655380e+01, 3.42515136e+02,\n",
       "       1.02717726e+03, 2.75989978e+02, 4.72599683e+02, 1.33693172e+03,\n",
       "       7.34594600e+00, 5.40141566e+02, 3.83363758e+02, 5.37765151e+02,\n",
       "       3.21873474e+02, 1.95756830e+01, 1.08138715e+02, 7.07303416e+02,\n",
       "       1.06733313e+03, 8.07947292e+02, 6.18630955e+02, 4.04272806e+02,\n",
       "       7.10400000e+02, 7.07977614e+02, 2.32242326e+02, 6.82260010e+01,\n",
       "       2.87149807e+02, 3.91636628e+02, 2.39328571e+02, 2.32674417e+02,\n",
       "       3.36509610e+02, 2.44212286e+02, 3.28870868e+02, 8.50637080e+01,\n",
       "       1.41840000e+03, 3.34408717e+02, 4.20964150e+01, 3.00528579e+02,\n",
       "       1.44782152e+02, 6.45982160e+01, 3.47857619e+02, 2.45447622e+02,\n",
       "       9.55200000e+02, 7.20752945e+02, 3.40656963e+02, 5.46524896e+02,\n",
       "       4.89411833e+02, 1.71325856e+02, 2.49085887e+02, 3.08748690e+01,\n",
       "       3.61455219e+02, 2.07320041e+02])"
      ]
     },
     "execution_count": 22,
     "metadata": {},
     "output_type": "execute_result"
    }
   ],
   "source": [
    "# check total claim amount, looks good, nothing special \n",
    "print(insurance_data['total claim amount'].value_counts(dropna=False))\n",
    "insurance_data['total claim amount'].unique()"
   ]
  },
  {
   "cell_type": "code",
   "execution_count": 23,
   "id": "e91f467e",
   "metadata": {},
   "outputs": [
    {
     "data": {
      "text/plain": [
       "customer                      object\n",
       "st                            object\n",
       "gender                        object\n",
       "education                     object\n",
       "customer lifetime value      float64\n",
       "income                       float64\n",
       "monthly premium auto         float64\n",
       "number of open complaints      int64\n",
       "policy type                   object\n",
       "vehicle class                 object\n",
       "total claim amount           float64\n",
       "dtype: object"
      ]
     },
     "execution_count": 23,
     "metadata": {},
     "output_type": "execute_result"
    }
   ],
   "source": [
    "insurance_data.dtypes"
   ]
  },
  {
   "cell_type": "code",
   "execution_count": 24,
   "id": "c2478660",
   "metadata": {},
   "outputs": [
    {
     "data": {
      "text/plain": [
       "customer                     1068\n",
       "st                           1068\n",
       "gender                       1068\n",
       "education                    1068\n",
       "customer lifetime value      1068\n",
       "income                       1068\n",
       "monthly premium auto         1068\n",
       "number of open complaints    1068\n",
       "policy type                  1068\n",
       "vehicle class                1068\n",
       "total claim amount           1068\n",
       "dtype: int64"
      ]
     },
     "execution_count": 24,
     "metadata": {},
     "output_type": "execute_result"
    }
   ],
   "source": [
    "# check for non null, looks good \n",
    "insurance_data.count()"
   ]
  },
  {
   "cell_type": "code",
   "execution_count": 25,
   "id": "27311eaf",
   "metadata": {},
   "outputs": [
    {
     "data": {
      "text/plain": [
       "customer                     1068\n",
       "st                              5\n",
       "gender                          3\n",
       "education                       5\n",
       "customer lifetime value      1027\n",
       "income                        772\n",
       "monthly premium auto          131\n",
       "number of open complaints       6\n",
       "policy type                     3\n",
       "vehicle class                   6\n",
       "total claim amount            758\n",
       "dtype: int64"
      ]
     },
     "execution_count": 25,
     "metadata": {},
     "output_type": "execute_result"
    }
   ],
   "source": [
    "#- Identify the number of unique values for each column and determine which columns appear to be categorical. \n",
    "#You should also describe the unique values of each categorical column and the range of values for numerical columns, and give your insights.\n",
    "insurance_data.nunique()"
   ]
  },
  {
   "cell_type": "code",
   "execution_count": 26,
   "id": "c60807a3",
   "metadata": {},
   "outputs": [],
   "source": [
    "# customer                     1071 --> categorical\n",
    "# st                              8 --> categorical \n",
    "# gender                          5 --> categorical\n",
    "# education                       6 --> categorical\n",
    "# customer lifetime value      1027 --> numerical\n",
    "# income                        774 --> numerical\n",
    "# monthly premium auto          132 --> numerical\n",
    "# number of open complaints       6 --> numerical\n",
    "# policy type                     3 --> categorical\n",
    "# vehicle class                   6 --> categorical\n",
    "# total claim amount            761 --> numerical"
   ]
  },
  {
   "cell_type": "code",
   "execution_count": 27,
   "id": "5914a702",
   "metadata": {},
   "outputs": [
    {
     "name": "stdout",
     "output_type": "stream",
     "text": [
      "Unique values 'customer': ['QZ44356' 'AI49188' 'WW63253' ... 'GS98873' 'CW49887' 'MY31220']\n",
      "Unique values 'st': ['Arizona' 'Nevada' 'California' 'Washington' 'Oregon']\n",
      "Unique values 'gender': ['F' 'M' 'O']\n",
      "Unique values 'education': ['Bachelor' 'High School or Below' 'College' 'Master' 'Doctor']\n",
      "Unique values 'policy type': ['Personal Auto' 'Corporate Auto' 'Special Auto']\n",
      "Unique values 'vehicle class': ['Four-Door Car' 'Two-Door Car' 'SUV' 'Luxury SUV' 'Sports Car'\n",
      " 'Luxury Car']\n"
     ]
    }
   ],
   "source": [
    "categorical_columns = ['customer', 'st', 'gender', 'education', 'policy type', 'vehicle class']\n",
    "for column in categorical_columns:\n",
    "    unique_values = insurance_data[column].unique()\n",
    "    print(f\"Unique values '{column}': {unique_values}\")"
   ]
  },
  {
   "cell_type": "code",
   "execution_count": 28,
   "id": "0566a7ba",
   "metadata": {},
   "outputs": [
    {
     "name": "stdout",
     "output_type": "stream",
     "text": [
      "1068\n",
      "counts: customer\n",
      "QZ44356    1\n",
      "HJ15383    1\n",
      "AO74776    1\n",
      "HQ82233    1\n",
      "OL72737    1\n",
      "          ..\n",
      "ES57969    1\n",
      "JK55587    1\n",
      "RN97635    1\n",
      "BI76326    1\n",
      "MY31220    1\n",
      "Name: count, Length: 1068, dtype: int64 customer\n",
      "QZ44356    0.093633\n",
      "HJ15383    0.093633\n",
      "AO74776    0.093633\n",
      "HQ82233    0.093633\n",
      "OL72737    0.093633\n",
      "             ...   \n",
      "ES57969    0.093633\n",
      "JK55587    0.093633\n",
      "RN97635    0.093633\n",
      "BI76326    0.093633\n",
      "MY31220    0.093633\n",
      "Name: count, Length: 1068, dtype: float64\n",
      "1068\n",
      "counts: st\n",
      "California    331\n",
      "Oregon        320\n",
      "Arizona       211\n",
      "Washington    108\n",
      "Nevada         98\n",
      "Name: count, dtype: int64 st\n",
      "California    30.992509\n",
      "Oregon        29.962547\n",
      "Arizona       19.756554\n",
      "Washington    10.112360\n",
      "Nevada         9.176030\n",
      "Name: count, dtype: float64\n",
      "1068\n",
      "counts: gender\n",
      "F    501\n",
      "M    451\n",
      "O    116\n",
      "Name: count, dtype: int64 gender\n",
      "F    46.910112\n",
      "M    42.228464\n",
      "O    10.861423\n",
      "Name: count, dtype: float64\n",
      "1068\n",
      "counts: education\n",
      "Bachelor                331\n",
      "College                 313\n",
      "High School or Below    295\n",
      "Master                   92\n",
      "Doctor                   37\n",
      "Name: count, dtype: int64 education\n",
      "Bachelor                30.992509\n",
      "College                 29.307116\n",
      "High School or Below    27.621723\n",
      "Master                   8.614232\n",
      "Doctor                   3.464419\n",
      "Name: count, dtype: float64\n",
      "1068\n",
      "counts: policy type\n",
      "Personal Auto     777\n",
      "Corporate Auto    234\n",
      "Special Auto       57\n",
      "Name: count, dtype: int64 policy type\n",
      "Personal Auto     72.752809\n",
      "Corporate Auto    21.910112\n",
      "Special Auto       5.337079\n",
      "Name: count, dtype: float64\n",
      "1068\n",
      "counts: vehicle class\n",
      "Four-Door Car    573\n",
      "Two-Door Car     205\n",
      "SUV              199\n",
      "Sports Car        57\n",
      "Luxury SUV        20\n",
      "Luxury Car        14\n",
      "Name: count, dtype: int64 vehicle class\n",
      "Four-Door Car    53.651685\n",
      "Two-Door Car     19.194757\n",
      "SUV              18.632959\n",
      "Sports Car        5.337079\n",
      "Luxury SUV        1.872659\n",
      "Luxury Car        1.310861\n",
      "Name: count, dtype: float64\n"
     ]
    }
   ],
   "source": [
    "# frequency count\n",
    "for column in categorical_columns:\n",
    "    total_len = len(insurance_data[column])  \n",
    "    print(total_len)  \n",
    "    print(\"counts:\", insurance_data[column].value_counts(), insurance_data[column].value_counts() / total_len * 100) "
   ]
  },
  {
   "cell_type": "code",
   "execution_count": 29,
   "id": "0af3deb9",
   "metadata": {},
   "outputs": [
    {
     "name": "stdout",
     "output_type": "stream",
     "text": [
      "'customer lifetime value' range : 5616220.279999999\n",
      "'income' range : 99960.0\n",
      "'monthly premium auto' range : 35293.0\n",
      "'number of open complaints' range : 5\n",
      "'total claim amount' range : 2892.857571\n"
     ]
    },
    {
     "data": {
      "text/html": [
       "<div>\n",
       "<style scoped>\n",
       "    .dataframe tbody tr th:only-of-type {\n",
       "        vertical-align: middle;\n",
       "    }\n",
       "\n",
       "    .dataframe tbody tr th {\n",
       "        vertical-align: top;\n",
       "    }\n",
       "\n",
       "    .dataframe thead th {\n",
       "        text-align: right;\n",
       "    }\n",
       "</style>\n",
       "<table border=\"1\" class=\"dataframe\">\n",
       "  <thead>\n",
       "    <tr style=\"text-align: right;\">\n",
       "      <th></th>\n",
       "      <th>customer lifetime value</th>\n",
       "      <th>income</th>\n",
       "      <th>monthly premium auto</th>\n",
       "      <th>number of open complaints</th>\n",
       "      <th>total claim amount</th>\n",
       "    </tr>\n",
       "  </thead>\n",
       "  <tbody>\n",
       "    <tr>\n",
       "      <th>count</th>\n",
       "      <td>1.068000e+03</td>\n",
       "      <td>1068.000000</td>\n",
       "      <td>1068.000000</td>\n",
       "      <td>1068.000000</td>\n",
       "      <td>1068.000000</td>\n",
       "    </tr>\n",
       "    <tr>\n",
       "      <th>mean</th>\n",
       "      <td>7.936903e+05</td>\n",
       "      <td>39315.411985</td>\n",
       "      <td>192.691948</td>\n",
       "      <td>0.395131</td>\n",
       "      <td>405.870113</td>\n",
       "    </tr>\n",
       "    <tr>\n",
       "      <th>std</th>\n",
       "      <td>6.434784e+05</td>\n",
       "      <td>30484.373979</td>\n",
       "      <td>1603.241719</td>\n",
       "      <td>0.884764</td>\n",
       "      <td>292.917158</td>\n",
       "    </tr>\n",
       "    <tr>\n",
       "      <th>min</th>\n",
       "      <td>2.004351e+05</td>\n",
       "      <td>0.000000</td>\n",
       "      <td>61.000000</td>\n",
       "      <td>0.000000</td>\n",
       "      <td>0.382107</td>\n",
       "    </tr>\n",
       "    <tr>\n",
       "      <th>25%</th>\n",
       "      <td>4.034080e+05</td>\n",
       "      <td>14072.000000</td>\n",
       "      <td>68.000000</td>\n",
       "      <td>0.000000</td>\n",
       "      <td>204.071460</td>\n",
       "    </tr>\n",
       "    <tr>\n",
       "      <th>50%</th>\n",
       "      <td>5.881742e+05</td>\n",
       "      <td>36226.000000</td>\n",
       "      <td>82.500000</td>\n",
       "      <td>0.000000</td>\n",
       "      <td>355.200000</td>\n",
       "    </tr>\n",
       "    <tr>\n",
       "      <th>75%</th>\n",
       "      <td>8.962872e+05</td>\n",
       "      <td>64668.750000</td>\n",
       "      <td>109.250000</td>\n",
       "      <td>0.000000</td>\n",
       "      <td>532.800000</td>\n",
       "    </tr>\n",
       "    <tr>\n",
       "      <th>max</th>\n",
       "      <td>5.816655e+06</td>\n",
       "      <td>99960.000000</td>\n",
       "      <td>35354.000000</td>\n",
       "      <td>5.000000</td>\n",
       "      <td>2893.239678</td>\n",
       "    </tr>\n",
       "  </tbody>\n",
       "</table>\n",
       "</div>"
      ],
      "text/plain": [
       "       customer lifetime value        income  monthly premium auto  \\\n",
       "count             1.068000e+03   1068.000000           1068.000000   \n",
       "mean              7.936903e+05  39315.411985            192.691948   \n",
       "std               6.434784e+05  30484.373979           1603.241719   \n",
       "min               2.004351e+05      0.000000             61.000000   \n",
       "25%               4.034080e+05  14072.000000             68.000000   \n",
       "50%               5.881742e+05  36226.000000             82.500000   \n",
       "75%               8.962872e+05  64668.750000            109.250000   \n",
       "max               5.816655e+06  99960.000000          35354.000000   \n",
       "\n",
       "       number of open complaints  total claim amount  \n",
       "count                1068.000000         1068.000000  \n",
       "mean                    0.395131          405.870113  \n",
       "std                     0.884764          292.917158  \n",
       "min                     0.000000            0.382107  \n",
       "25%                     0.000000          204.071460  \n",
       "50%                     0.000000          355.200000  \n",
       "75%                     0.000000          532.800000  \n",
       "max                     5.000000         2893.239678  "
      ]
     },
     "execution_count": 29,
     "metadata": {},
     "output_type": "execute_result"
    }
   ],
   "source": [
    "numerical_columns = ['customer lifetime value', 'income', 'monthly premium auto', 'number of open complaints', 'total claim amount']\n",
    "for numerical in numerical_columns:\n",
    "    data_range = max(insurance_data[numerical]) - min(insurance_data[numerical])\n",
    "    print(f\"'{numerical}' range : {data_range}\")\n",
    "insurance_data.describe()"
   ]
  },
  {
   "cell_type": "markdown",
   "id": "4a703890-63db-4944-b7ab-95a4f8185120",
   "metadata": {},
   "source": [
    "## Challenge 2: analyzing the data"
   ]
  },
  {
   "cell_type": "code",
   "execution_count": 30,
   "id": "be3581ab",
   "metadata": {},
   "outputs": [
    {
     "data": {
      "text/html": [
       "<div>\n",
       "<style scoped>\n",
       "    .dataframe tbody tr th:only-of-type {\n",
       "        vertical-align: middle;\n",
       "    }\n",
       "\n",
       "    .dataframe tbody tr th {\n",
       "        vertical-align: top;\n",
       "    }\n",
       "\n",
       "    .dataframe thead th {\n",
       "        text-align: right;\n",
       "    }\n",
       "</style>\n",
       "<table border=\"1\" class=\"dataframe\">\n",
       "  <thead>\n",
       "    <tr style=\"text-align: right;\">\n",
       "      <th></th>\n",
       "      <th>customer</th>\n",
       "      <th>st</th>\n",
       "      <th>gender</th>\n",
       "      <th>education</th>\n",
       "      <th>customer lifetime value</th>\n",
       "      <th>income</th>\n",
       "      <th>monthly premium auto</th>\n",
       "      <th>number of open complaints</th>\n",
       "      <th>policy type</th>\n",
       "      <th>vehicle class</th>\n",
       "      <th>total claim amount</th>\n",
       "    </tr>\n",
       "  </thead>\n",
       "  <tbody>\n",
       "    <tr>\n",
       "      <th>0</th>\n",
       "      <td>QZ44356</td>\n",
       "      <td>Arizona</td>\n",
       "      <td>F</td>\n",
       "      <td>Bachelor</td>\n",
       "      <td>697953.59</td>\n",
       "      <td>0.0</td>\n",
       "      <td>94.0</td>\n",
       "      <td>0</td>\n",
       "      <td>Personal Auto</td>\n",
       "      <td>Four-Door Car</td>\n",
       "      <td>1131.464935</td>\n",
       "    </tr>\n",
       "    <tr>\n",
       "      <th>1</th>\n",
       "      <td>AI49188</td>\n",
       "      <td>Nevada</td>\n",
       "      <td>F</td>\n",
       "      <td>Bachelor</td>\n",
       "      <td>1288743.17</td>\n",
       "      <td>48767.0</td>\n",
       "      <td>108.0</td>\n",
       "      <td>0</td>\n",
       "      <td>Personal Auto</td>\n",
       "      <td>Two-Door Car</td>\n",
       "      <td>566.472247</td>\n",
       "    </tr>\n",
       "    <tr>\n",
       "      <th>2</th>\n",
       "      <td>WW63253</td>\n",
       "      <td>California</td>\n",
       "      <td>M</td>\n",
       "      <td>Bachelor</td>\n",
       "      <td>764586.18</td>\n",
       "      <td>0.0</td>\n",
       "      <td>106.0</td>\n",
       "      <td>0</td>\n",
       "      <td>Corporate Auto</td>\n",
       "      <td>SUV</td>\n",
       "      <td>529.881344</td>\n",
       "    </tr>\n",
       "    <tr>\n",
       "      <th>3</th>\n",
       "      <td>GA49547</td>\n",
       "      <td>Washington</td>\n",
       "      <td>M</td>\n",
       "      <td>High School or Below</td>\n",
       "      <td>536307.65</td>\n",
       "      <td>36357.0</td>\n",
       "      <td>68.0</td>\n",
       "      <td>0</td>\n",
       "      <td>Personal Auto</td>\n",
       "      <td>Four-Door Car</td>\n",
       "      <td>17.269323</td>\n",
       "    </tr>\n",
       "    <tr>\n",
       "      <th>4</th>\n",
       "      <td>OC83172</td>\n",
       "      <td>Oregon</td>\n",
       "      <td>F</td>\n",
       "      <td>Bachelor</td>\n",
       "      <td>825629.78</td>\n",
       "      <td>62902.0</td>\n",
       "      <td>69.0</td>\n",
       "      <td>0</td>\n",
       "      <td>Personal Auto</td>\n",
       "      <td>Two-Door Car</td>\n",
       "      <td>159.383042</td>\n",
       "    </tr>\n",
       "    <tr>\n",
       "      <th>...</th>\n",
       "      <td>...</td>\n",
       "      <td>...</td>\n",
       "      <td>...</td>\n",
       "      <td>...</td>\n",
       "      <td>...</td>\n",
       "      <td>...</td>\n",
       "      <td>...</td>\n",
       "      <td>...</td>\n",
       "      <td>...</td>\n",
       "      <td>...</td>\n",
       "      <td>...</td>\n",
       "    </tr>\n",
       "    <tr>\n",
       "      <th>1063</th>\n",
       "      <td>TM65736</td>\n",
       "      <td>Oregon</td>\n",
       "      <td>M</td>\n",
       "      <td>Master</td>\n",
       "      <td>305955.03</td>\n",
       "      <td>38644.0</td>\n",
       "      <td>78.0</td>\n",
       "      <td>1</td>\n",
       "      <td>Personal Auto</td>\n",
       "      <td>Four-Door Car</td>\n",
       "      <td>361.455219</td>\n",
       "    </tr>\n",
       "    <tr>\n",
       "      <th>1064</th>\n",
       "      <td>VJ51327</td>\n",
       "      <td>California</td>\n",
       "      <td>F</td>\n",
       "      <td>High School or Below</td>\n",
       "      <td>2031499.76</td>\n",
       "      <td>63209.0</td>\n",
       "      <td>102.0</td>\n",
       "      <td>2</td>\n",
       "      <td>Personal Auto</td>\n",
       "      <td>SUV</td>\n",
       "      <td>207.320041</td>\n",
       "    </tr>\n",
       "    <tr>\n",
       "      <th>1065</th>\n",
       "      <td>GS98873</td>\n",
       "      <td>Arizona</td>\n",
       "      <td>F</td>\n",
       "      <td>Bachelor</td>\n",
       "      <td>323912.47</td>\n",
       "      <td>16061.0</td>\n",
       "      <td>88.0</td>\n",
       "      <td>0</td>\n",
       "      <td>Personal Auto</td>\n",
       "      <td>Four-Door Car</td>\n",
       "      <td>633.600000</td>\n",
       "    </tr>\n",
       "    <tr>\n",
       "      <th>1066</th>\n",
       "      <td>CW49887</td>\n",
       "      <td>California</td>\n",
       "      <td>F</td>\n",
       "      <td>Master</td>\n",
       "      <td>462680.11</td>\n",
       "      <td>79487.0</td>\n",
       "      <td>114.0</td>\n",
       "      <td>0</td>\n",
       "      <td>Special Auto</td>\n",
       "      <td>SUV</td>\n",
       "      <td>547.200000</td>\n",
       "    </tr>\n",
       "    <tr>\n",
       "      <th>1067</th>\n",
       "      <td>MY31220</td>\n",
       "      <td>California</td>\n",
       "      <td>F</td>\n",
       "      <td>College</td>\n",
       "      <td>899704.02</td>\n",
       "      <td>54230.0</td>\n",
       "      <td>112.0</td>\n",
       "      <td>0</td>\n",
       "      <td>Personal Auto</td>\n",
       "      <td>Two-Door Car</td>\n",
       "      <td>537.600000</td>\n",
       "    </tr>\n",
       "  </tbody>\n",
       "</table>\n",
       "<p>1068 rows × 11 columns</p>\n",
       "</div>"
      ],
      "text/plain": [
       "     customer          st gender             education  \\\n",
       "0     QZ44356     Arizona      F              Bachelor   \n",
       "1     AI49188      Nevada      F              Bachelor   \n",
       "2     WW63253  California      M              Bachelor   \n",
       "3     GA49547  Washington      M  High School or Below   \n",
       "4     OC83172      Oregon      F              Bachelor   \n",
       "...       ...         ...    ...                   ...   \n",
       "1063  TM65736      Oregon      M                Master   \n",
       "1064  VJ51327  California      F  High School or Below   \n",
       "1065  GS98873     Arizona      F              Bachelor   \n",
       "1066  CW49887  California      F                Master   \n",
       "1067  MY31220  California      F               College   \n",
       "\n",
       "      customer lifetime value   income  monthly premium auto  \\\n",
       "0                   697953.59      0.0                  94.0   \n",
       "1                  1288743.17  48767.0                 108.0   \n",
       "2                   764586.18      0.0                 106.0   \n",
       "3                   536307.65  36357.0                  68.0   \n",
       "4                   825629.78  62902.0                  69.0   \n",
       "...                       ...      ...                   ...   \n",
       "1063                305955.03  38644.0                  78.0   \n",
       "1064               2031499.76  63209.0                 102.0   \n",
       "1065                323912.47  16061.0                  88.0   \n",
       "1066                462680.11  79487.0                 114.0   \n",
       "1067                899704.02  54230.0                 112.0   \n",
       "\n",
       "      number of open complaints     policy type  vehicle class  \\\n",
       "0                             0   Personal Auto  Four-Door Car   \n",
       "1                             0   Personal Auto   Two-Door Car   \n",
       "2                             0  Corporate Auto            SUV   \n",
       "3                             0   Personal Auto  Four-Door Car   \n",
       "4                             0   Personal Auto   Two-Door Car   \n",
       "...                         ...             ...            ...   \n",
       "1063                          1   Personal Auto  Four-Door Car   \n",
       "1064                          2   Personal Auto            SUV   \n",
       "1065                          0   Personal Auto  Four-Door Car   \n",
       "1066                          0    Special Auto            SUV   \n",
       "1067                          0   Personal Auto   Two-Door Car   \n",
       "\n",
       "      total claim amount  \n",
       "0            1131.464935  \n",
       "1             566.472247  \n",
       "2             529.881344  \n",
       "3              17.269323  \n",
       "4             159.383042  \n",
       "...                  ...  \n",
       "1063          361.455219  \n",
       "1064          207.320041  \n",
       "1065          633.600000  \n",
       "1066          547.200000  \n",
       "1067          537.600000  \n",
       "\n",
       "[1068 rows x 11 columns]"
      ]
     },
     "execution_count": 30,
     "metadata": {},
     "output_type": "execute_result"
    }
   ],
   "source": [
    "#reset index\n",
    "insurance_data = insurance_data.reset_index(drop=True)\n",
    "\n",
    "# make sure it works\n",
    "insurance_data"
   ]
  },
  {
   "cell_type": "markdown",
   "id": "0776a403-c56a-452f-ac33-5fd4fdb06fc7",
   "metadata": {},
   "source": [
    "### Exercise 1"
   ]
  },
  {
   "cell_type": "markdown",
   "id": "eedbc484-da4d-4f9c-9343-e1d44311a87e",
   "metadata": {},
   "source": [
    "The marketing team wants to know the top 5 less common customer locations. Create a pandas Series object that contains the customer locations and their frequencies, and then retrieve the top 5 less common locations in ascending order."
   ]
  },
  {
   "cell_type": "code",
   "execution_count": 31,
   "id": "2dca5073-4520-4f42-9390-4b92733284ed",
   "metadata": {},
   "outputs": [
    {
     "data": {
      "text/plain": [
       "st\n",
       "Nevada         98\n",
       "Washington    108\n",
       "Arizona       211\n",
       "Oregon        320\n",
       "California    331\n",
       "Name: count, dtype: int64"
      ]
     },
     "execution_count": 31,
     "metadata": {},
     "output_type": "execute_result"
    }
   ],
   "source": [
    "# get frequency \n",
    "freq = insurance_data['st'].value_counts()\n",
    "# sort default ascending, return top 5 event though there is only 5\n",
    "freq.sort_values().head(5)"
   ]
  },
  {
   "cell_type": "markdown",
   "id": "0ce80f43-4afa-43c7-a78a-c917444da4e0",
   "metadata": {},
   "source": [
    "### Exercise 2\n",
    "\n",
    "The sales team wants to know the total number of policies sold for each type of policy. Create a pandas Series object that contains the policy types and their total number of policies sold, and then retrieve the policy type with the highest number of policies sold."
   ]
  },
  {
   "cell_type": "markdown",
   "id": "a9f13997-1555-4f98-aca6-970fda1d2c3f",
   "metadata": {},
   "source": [
    "*Hint:*\n",
    "- *Using value_counts() method simplifies this analysis.*\n",
    "- *Futhermore, there is a method that returns the index of the maximum value in a column or row.*\n"
   ]
  },
  {
   "cell_type": "code",
   "execution_count": 32,
   "id": "bcfad6c1-9af2-4b0b-9aa9-0dc5c17473c0",
   "metadata": {},
   "outputs": [
    {
     "data": {
      "text/plain": [
       "array(['Personal Auto', 'Corporate Auto', 'Special Auto'], dtype=object)"
      ]
     },
     "execution_count": 32,
     "metadata": {},
     "output_type": "execute_result"
    }
   ],
   "source": [
    "# to remember the options\n",
    "insurance_data['policy type'].unique()\n"
   ]
  },
  {
   "cell_type": "code",
   "execution_count": 33,
   "id": "70ceb779",
   "metadata": {},
   "outputs": [
    {
     "name": "stdout",
     "output_type": "stream",
     "text": [
      "policy type\n",
      "Personal Auto     777\n",
      "Corporate Auto    234\n",
      "Special Auto       57\n",
      "Name: count, dtype: int64\n"
     ]
    },
    {
     "data": {
      "text/plain": [
       "'Personal Auto'"
      ]
     },
     "execution_count": 33,
     "metadata": {},
     "output_type": "execute_result"
    }
   ],
   "source": [
    "# retrieves value counts \n",
    "freq_policy = insurance_data['policy type'].value_counts()\n",
    "# check\n",
    "print(freq_policy)\n",
    "# returns result\n",
    "freq_policy.idxmax()\n"
   ]
  },
  {
   "cell_type": "markdown",
   "id": "0b863fd3-bf91-4d5d-86eb-be29ed9f5b70",
   "metadata": {},
   "source": [
    "### Exercise 3\n",
    "\n",
    "The sales team wants to know if customers with Personal Auto have a lower income than those with Corporate Auto. How does the average income compare between the two policy types?"
   ]
  },
  {
   "cell_type": "markdown",
   "id": "b1386d75-2810-4aa1-93e0-9485aa12d552",
   "metadata": {},
   "source": [
    "- Use *loc* to create two dataframes: one containing only Personal Auto policies and one containing only Corporate Auto policies.\n",
    "- Calculate the average income for each policy.\n",
    "- Print the results."
   ]
  },
  {
   "cell_type": "code",
   "execution_count": 34,
   "id": "0c0563cf-6f8b-463d-a321-651a972f82e5",
   "metadata": {},
   "outputs": [],
   "source": [
    "# dataFrame Personal Auto\n",
    "df_personal = insurance_data.loc[insurance_data['policy type'] == 'Personal Auto']\n",
    "#df_personal\n",
    "\n",
    "# calculate mean\n",
    "avg_income_personal = df_personal['income'].mean()\n"
   ]
  },
  {
   "cell_type": "code",
   "execution_count": 35,
   "id": "5176f966",
   "metadata": {},
   "outputs": [],
   "source": [
    "# dataFrame Corporate Auto\n",
    "df_corporate = insurance_data.loc[insurance_data['policy type'] == 'Corporate Auto']\n",
    "#df_corporate\n",
    "\n",
    "# calculate mean\n",
    "avg_income_corporate = df_corporate['income'].mean()\n"
   ]
  },
  {
   "cell_type": "code",
   "execution_count": 36,
   "id": "3f5a7228",
   "metadata": {},
   "outputs": [
    {
     "name": "stdout",
     "output_type": "stream",
     "text": [
      "Average income personal:   38203.48648648649\n",
      "Average income corporate:  41390.31196581197\n"
     ]
    }
   ],
   "source": [
    "print(\"Average income personal:   \" + str(avg_income_personal))\n",
    "print(\"Average income corporate:  \" + str(avg_income_corporate))"
   ]
  },
  {
   "cell_type": "markdown",
   "id": "80b16c27-f4a5-4727-a229-1f88671cf4e2",
   "metadata": {},
   "source": [
    "### Bonus: Exercise 4\n"
   ]
  },
  {
   "cell_type": "markdown",
   "id": "ac584986-299b-475f-ac2e-928c16c3f512",
   "metadata": {},
   "source": [
    "Your goal is to identify customers with a high policy claim amount.\n",
    "\n",
    "Instructions:\n",
    "\n",
    "- Review again the statistics for total claim amount to gain an understanding of the data.\n",
    "- To identify potential areas for improving customer retention and profitability, we want to focus on customers with a high policy claim amount. Consider customers with a high policy claim amount to be those in the top 25% of the total claim amount. Create a pandas DataFrame object that contains information about customers with a policy claim amount greater than the 75th percentile.\n",
    "- Use DataFrame methods to calculate summary statistics about the high policy claim amount data. "
   ]
  },
  {
   "cell_type": "markdown",
   "id": "4e3af5f1-6023-4b05-9c01-d05392daa650",
   "metadata": {},
   "source": [
    "*Note: When analyzing data, we often want to focus on certain groups of values to gain insights. Percentiles are a useful tool to help us define these groups. A percentile is a measure that tells us what percentage of values in a dataset are below a certain value. For example, the 75th percentile represents the value below which 75% of the data falls. Similarly, the 25th percentile represents the value below which 25% of the data falls. When we talk about the top 25%, we are referring to the values that fall above the 75th percentile, which represent the top quarter of the data. On the other hand, when we talk about the bottom 25%, we are referring to the values that fall below the 25th percentile, which represent the bottom quarter of the data. By focusing on these groups, we can identify patterns and trends that may be useful for making decisions and taking action.*\n",
    "\n",
    "*Hint: look for a method that gives you the percentile or quantile 0.75 and 0.25 for a Pandas Series.*"
   ]
  },
  {
   "cell_type": "markdown",
   "id": "2d234634-50bd-41e0-88f7-d5ba684455d1",
   "metadata": {},
   "source": [
    "*Hint 2: check `Boolean selection according to the values of a single column` in https://towardsdatascience.com/filtering-data-frames-in-pandas-b570b1f834b9*"
   ]
  },
  {
   "cell_type": "code",
   "execution_count": 37,
   "id": "b731bca6-a760-4860-a27b-a33efa712ce0",
   "metadata": {},
   "outputs": [],
   "source": [
    "# Your code here"
   ]
  }
 ],
 "metadata": {
  "kernelspec": {
   "display_name": "Python 3 (ipykernel)",
   "language": "python",
   "name": "python3"
  },
  "language_info": {
   "codemirror_mode": {
    "name": "ipython",
    "version": 3
   },
   "file_extension": ".py",
   "mimetype": "text/x-python",
   "name": "python",
   "nbconvert_exporter": "python",
   "pygments_lexer": "ipython3",
   "version": "3.1.-1"
  }
 },
 "nbformat": 4,
 "nbformat_minor": 5
}
