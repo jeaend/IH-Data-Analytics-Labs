{
 "cells": [
  {
   "cell_type": "code",
   "execution_count": 1,
   "metadata": {},
   "outputs": [],
   "source": [
    "import pandas as pd\n",
    "import seaborn as sns\n",
    "import matplotlib.pyplot as plt\n",
    "import numpy as np\n",
    "pd.set_option('display.max_columns', None)\n",
    "from helper_functions import separate_continous_discrete, print_correlation_matrix, plot_discrete_variables, plot_continuous_variables, plot_outliers, remove_outlier_iqr, remove_outlier_cutoff_between"
   ]
  },
  {
   "cell_type": "markdown",
   "metadata": {},
   "source": [
    "**Instructions**\n",
    "1. Open the notebook created for Lab-cleaning-numerical-data.\n",
    "2. Find all of the categorical data. Save it in a categorical_df variable."
   ]
  },
  {
   "cell_type": "code",
   "execution_count": 2,
   "metadata": {},
   "outputs": [
    {
     "data": {
      "text/plain": [
       "(8290, 16)"
      ]
     },
     "metadata": {},
     "output_type": "display_data"
    },
    {
     "data": {
      "text/html": [
       "<div>\n",
       "<style scoped>\n",
       "    .dataframe tbody tr th:only-of-type {\n",
       "        vertical-align: middle;\n",
       "    }\n",
       "\n",
       "    .dataframe tbody tr th {\n",
       "        vertical-align: top;\n",
       "    }\n",
       "\n",
       "    .dataframe thead th {\n",
       "        text-align: right;\n",
       "    }\n",
       "</style>\n",
       "<table border=\"1\" class=\"dataframe\">\n",
       "  <thead>\n",
       "    <tr style=\"text-align: right;\">\n",
       "      <th></th>\n",
       "      <th>customer</th>\n",
       "      <th>state</th>\n",
       "      <th>response</th>\n",
       "      <th>coverage</th>\n",
       "      <th>education</th>\n",
       "      <th>effective_to_date</th>\n",
       "      <th>employmentstatus</th>\n",
       "      <th>gender</th>\n",
       "      <th>location_code</th>\n",
       "      <th>marital_status</th>\n",
       "      <th>policy_type</th>\n",
       "      <th>policy</th>\n",
       "      <th>renew_offer_type</th>\n",
       "      <th>sales_channel</th>\n",
       "      <th>vehicle_class</th>\n",
       "      <th>vehicle_size</th>\n",
       "    </tr>\n",
       "  </thead>\n",
       "  <tbody>\n",
       "    <tr>\n",
       "      <th>0</th>\n",
       "      <td>BU79786</td>\n",
       "      <td>Washington</td>\n",
       "      <td>No</td>\n",
       "      <td>Basic</td>\n",
       "      <td>Bachelor</td>\n",
       "      <td>2011-02-24</td>\n",
       "      <td>Employed</td>\n",
       "      <td>F</td>\n",
       "      <td>Suburban</td>\n",
       "      <td>Married</td>\n",
       "      <td>Corporate Auto</td>\n",
       "      <td>Corporate L3</td>\n",
       "      <td>Offer1</td>\n",
       "      <td>Agent</td>\n",
       "      <td>Two-Door Car</td>\n",
       "      <td>Medsize</td>\n",
       "    </tr>\n",
       "    <tr>\n",
       "      <th>1</th>\n",
       "      <td>QZ44356</td>\n",
       "      <td>Arizona</td>\n",
       "      <td>No</td>\n",
       "      <td>Extended</td>\n",
       "      <td>Bachelor</td>\n",
       "      <td>2011-01-31</td>\n",
       "      <td>Unemployed</td>\n",
       "      <td>F</td>\n",
       "      <td>Suburban</td>\n",
       "      <td>Single</td>\n",
       "      <td>Personal Auto</td>\n",
       "      <td>Personal L3</td>\n",
       "      <td>Offer3</td>\n",
       "      <td>Agent</td>\n",
       "      <td>Four-Door Car</td>\n",
       "      <td>Medsize</td>\n",
       "    </tr>\n",
       "    <tr>\n",
       "      <th>2</th>\n",
       "      <td>AI49188</td>\n",
       "      <td>Nevada</td>\n",
       "      <td>No</td>\n",
       "      <td>Premium</td>\n",
       "      <td>Bachelor</td>\n",
       "      <td>2011-02-19</td>\n",
       "      <td>Employed</td>\n",
       "      <td>F</td>\n",
       "      <td>Suburban</td>\n",
       "      <td>Married</td>\n",
       "      <td>Personal Auto</td>\n",
       "      <td>Personal L3</td>\n",
       "      <td>Offer1</td>\n",
       "      <td>Agent</td>\n",
       "      <td>Two-Door Car</td>\n",
       "      <td>Medsize</td>\n",
       "    </tr>\n",
       "    <tr>\n",
       "      <th>3</th>\n",
       "      <td>WW63253</td>\n",
       "      <td>California</td>\n",
       "      <td>No</td>\n",
       "      <td>Basic</td>\n",
       "      <td>Bachelor</td>\n",
       "      <td>2011-01-20</td>\n",
       "      <td>Unemployed</td>\n",
       "      <td>M</td>\n",
       "      <td>Suburban</td>\n",
       "      <td>Married</td>\n",
       "      <td>Corporate Auto</td>\n",
       "      <td>Corporate L2</td>\n",
       "      <td>Offer1</td>\n",
       "      <td>Call Center</td>\n",
       "      <td>SUV</td>\n",
       "      <td>Medsize</td>\n",
       "    </tr>\n",
       "    <tr>\n",
       "      <th>4</th>\n",
       "      <td>HB64268</td>\n",
       "      <td>Washington</td>\n",
       "      <td>No</td>\n",
       "      <td>Basic</td>\n",
       "      <td>Bachelor</td>\n",
       "      <td>2011-02-03</td>\n",
       "      <td>Employed</td>\n",
       "      <td>M</td>\n",
       "      <td>Rural</td>\n",
       "      <td>Single</td>\n",
       "      <td>Personal Auto</td>\n",
       "      <td>Personal L1</td>\n",
       "      <td>Offer1</td>\n",
       "      <td>Agent</td>\n",
       "      <td>Four-Door Car</td>\n",
       "      <td>Medsize</td>\n",
       "    </tr>\n",
       "  </tbody>\n",
       "</table>\n",
       "</div>"
      ],
      "text/plain": [
       "  customer       state response  coverage education effective_to_date  \\\n",
       "0  BU79786  Washington       No     Basic  Bachelor        2011-02-24   \n",
       "1  QZ44356     Arizona       No  Extended  Bachelor        2011-01-31   \n",
       "2  AI49188      Nevada       No   Premium  Bachelor        2011-02-19   \n",
       "3  WW63253  California       No     Basic  Bachelor        2011-01-20   \n",
       "4  HB64268  Washington       No     Basic  Bachelor        2011-02-03   \n",
       "\n",
       "  employmentstatus gender location_code marital_status     policy_type  \\\n",
       "0         Employed      F      Suburban        Married  Corporate Auto   \n",
       "1       Unemployed      F      Suburban         Single   Personal Auto   \n",
       "2         Employed      F      Suburban        Married   Personal Auto   \n",
       "3       Unemployed      M      Suburban        Married  Corporate Auto   \n",
       "4         Employed      M         Rural         Single   Personal Auto   \n",
       "\n",
       "         policy renew_offer_type sales_channel  vehicle_class vehicle_size  \n",
       "0  Corporate L3           Offer1         Agent   Two-Door Car      Medsize  \n",
       "1   Personal L3           Offer3         Agent  Four-Door Car      Medsize  \n",
       "2   Personal L3           Offer1         Agent   Two-Door Car      Medsize  \n",
       "3  Corporate L2           Offer1   Call Center            SUV      Medsize  \n",
       "4   Personal L1           Offer1         Agent  Four-Door Car      Medsize  "
      ]
     },
     "execution_count": 2,
     "metadata": {},
     "output_type": "execute_result"
    }
   ],
   "source": [
    "customer_df = pd.read_csv('customer.csv')\n",
    "customer_df.rename(columns=lambda x: x.strip().replace(\" \", \"_\").lower(), inplace=True)\n",
    "categorical_df = customer_df.select_dtypes(include='object')\n",
    "display(categorical_df.shape)\n",
    "categorical_df.head()"
   ]
  },
  {
   "cell_type": "markdown",
   "metadata": {},
   "source": [
    "3. Check for NaN values and decide what to do with them, do it now."
   ]
  },
  {
   "cell_type": "code",
   "execution_count": 3,
   "metadata": {},
   "outputs": [
    {
     "data": {
      "text/plain": [
       "0"
      ]
     },
     "execution_count": 3,
     "metadata": {},
     "output_type": "execute_result"
    }
   ],
   "source": [
    "categorical_df.isna().sum().sum()\n",
    "# no nan values"
   ]
  },
  {
   "cell_type": "markdown",
   "metadata": {},
   "source": [
    "4. Check all unique values of columns."
   ]
  },
  {
   "cell_type": "code",
   "execution_count": 4,
   "metadata": {},
   "outputs": [
    {
     "data": {
      "text/plain": [
       "customer             8290\n",
       "state                   5\n",
       "response                2\n",
       "coverage                3\n",
       "education               5\n",
       "effective_to_date      59\n",
       "employmentstatus        5\n",
       "gender                  2\n",
       "location_code           3\n",
       "marital_status          3\n",
       "policy_type             3\n",
       "policy                  9\n",
       "renew_offer_type        4\n",
       "sales_channel           4\n",
       "vehicle_class           6\n",
       "vehicle_size            3\n",
       "dtype: int64"
      ]
     },
     "execution_count": 4,
     "metadata": {},
     "output_type": "execute_result"
    }
   ],
   "source": [
    "categorical_df.apply(lambda x: x.nunique())"
   ]
  },
  {
   "cell_type": "code",
   "execution_count": 5,
   "metadata": {},
   "outputs": [
    {
     "data": {
      "text/plain": [
       "{'customer': array(['BU79786', 'QZ44356', 'AI49188', ..., 'TD14365', 'UP19263',\n",
       "        'Y167826'], dtype=object),\n",
       " 'state': array(['Washington', 'Arizona', 'Nevada', 'California', 'Oregon'],\n",
       "       dtype=object),\n",
       " 'response': array(['No', 'Yes'], dtype=object),\n",
       " 'coverage': array(['Basic', 'Extended', 'Premium'], dtype=object),\n",
       " 'education': array(['Bachelor', 'College', 'Master', 'High School or Below', 'Doctor'],\n",
       "       dtype=object),\n",
       " 'effective_to_date': array(['2011-02-24', '2011-01-31', '2011-02-19', '2011-01-20',\n",
       "        '2011-02-03', '2011-01-25', '2011-01-18', '2011-02-17',\n",
       "        '2011-02-21', '2011-01-06', '2011-02-06', '2011-01-10',\n",
       "        '2011-01-17', '2011-01-05', '2011-02-27', '2011-01-14',\n",
       "        '2011-01-21', '2011-02-05', '2011-01-29', '2011-02-28',\n",
       "        '2011-02-12', '2011-02-02', '2011-02-07', '2011-02-13',\n",
       "        '2011-01-15', '2011-01-08', '2011-01-11', '2011-01-28',\n",
       "        '2011-02-08', '2011-02-23', '2011-01-02', '2011-02-16',\n",
       "        '2011-01-22', '2011-01-23', '2011-01-26', '2011-01-27',\n",
       "        '2011-01-09', '2011-02-11', '2011-02-04', '2011-02-01',\n",
       "        '2011-02-15', '2011-02-26', '2011-01-16', '2011-01-01',\n",
       "        '2011-02-10', '2011-01-24', '2011-02-25', '2011-01-12',\n",
       "        '2011-02-09', '2011-01-19', '2011-01-04', '2011-02-14',\n",
       "        '2011-02-20', '2011-02-18', '2011-01-13', '2011-01-03',\n",
       "        '2011-01-30', '2011-02-22', '2011-01-07'], dtype=object),\n",
       " 'employmentstatus': array(['Employed', 'Unemployed', 'Medical Leave', 'Disabled', 'Retired'],\n",
       "       dtype=object),\n",
       " 'gender': array(['F', 'M'], dtype=object),\n",
       " 'location_code': array(['Suburban', 'Rural', 'Urban'], dtype=object),\n",
       " 'marital_status': array(['Married', 'Single', 'Divorced'], dtype=object),\n",
       " 'policy_type': array(['Corporate Auto', 'Personal Auto', 'Special Auto'], dtype=object),\n",
       " 'policy': array(['Corporate L3', 'Personal L3', 'Corporate L2', 'Personal L1',\n",
       "        'Special L2', 'Corporate L1', 'Personal L2', 'Special L1',\n",
       "        'Special L3'], dtype=object),\n",
       " 'renew_offer_type': array(['Offer1', 'Offer3', 'Offer2', 'Offer4'], dtype=object),\n",
       " 'sales_channel': array(['Agent', 'Call Center', 'Web', 'Branch'], dtype=object),\n",
       " 'vehicle_class': array(['Two-Door Car', 'Four-Door Car', 'SUV', 'Sports Car', 'Luxury SUV',\n",
       "        'Luxury Car'], dtype=object),\n",
       " 'vehicle_size': array(['Medsize', 'Small', 'Large'], dtype=object)}"
      ]
     },
     "execution_count": 5,
     "metadata": {},
     "output_type": "execute_result"
    }
   ],
   "source": [
    "{column: categorical_df[column].unique() for column in categorical_df.columns}"
   ]
  },
  {
   "cell_type": "markdown",
   "metadata": {},
   "source": [
    "5. Check dtypes. Do they all make sense as categorical data?"
   ]
  },
  {
   "cell_type": "code",
   "execution_count": 6,
   "metadata": {},
   "outputs": [
    {
     "data": {
      "text/plain": [
       "customer                     object\n",
       "state                        object\n",
       "response                     object\n",
       "coverage                     object\n",
       "education                    object\n",
       "effective_to_date    datetime64[ns]\n",
       "employmentstatus             object\n",
       "gender                       object\n",
       "location_code                object\n",
       "marital_status               object\n",
       "policy_type                  object\n",
       "policy                       object\n",
       "renew_offer_type             object\n",
       "sales_channel                object\n",
       "vehicle_class                object\n",
       "vehicle_size                 object\n",
       "dtype: object"
      ]
     },
     "execution_count": 6,
     "metadata": {},
     "output_type": "execute_result"
    }
   ],
   "source": [
    "# effective_to_date should be of type date\n",
    "categorical_df['effective_to_date'] = pd.to_datetime(categorical_df['effective_to_date'])\n",
    "# check \n",
    "categorical_df.dtypes"
   ]
  },
  {
   "cell_type": "markdown",
   "metadata": {},
   "source": [
    "6. Does any column contain alpha and numeric data? Decide how to clean it and do it now."
   ]
  },
  {
   "cell_type": "code",
   "execution_count": 7,
   "metadata": {},
   "outputs": [
    {
     "data": {
      "text/plain": [
       "array(['1', '3', '2', '4'], dtype=object)"
      ]
     },
     "execution_count": 7,
     "metadata": {},
     "output_type": "execute_result"
    }
   ],
   "source": [
    "# column renew_offer_type can be 1-4\n",
    "categorical_df['renew_offer_type'] = categorical_df['renew_offer_type'].str.extract('(\\d)')\n",
    "categorical_df['renew_offer_type'].unique()"
   ]
  },
  {
   "cell_type": "markdown",
   "metadata": {},
   "source": [
    "7. Would you choose to do anything else to clean or wrangle the categorical data? Comment your decisions and do it now."
   ]
  },
  {
   "cell_type": "code",
   "execution_count": 8,
   "metadata": {},
   "outputs": [
    {
     "data": {
      "text/plain": [
       "array(['Midsize', 'Small', 'Large'], dtype=object)"
      ]
     },
     "execution_count": 8,
     "metadata": {},
     "output_type": "execute_result"
    }
   ],
   "source": [
    "# vehicle_size has one option medsize-- should be midsize \n",
    "categorical_df['vehicle_size'] = categorical_df['vehicle_size'].replace('Medsize', 'Midsize')\n",
    "categorical_df['vehicle_size'].unique()"
   ]
  },
  {
   "cell_type": "code",
   "execution_count": 9,
   "metadata": {},
   "outputs": [
    {
     "data": {
      "text/plain": [
       "array([0, 1])"
      ]
     },
     "execution_count": 9,
     "metadata": {},
     "output_type": "execute_result"
    }
   ],
   "source": [
    "# pretty much encoded, change to binary \n",
    "categorical_df['response'] = categorical_df['response'].replace({'Yes': 1, 'No': 0})\n",
    "categorical_df['response'].unique()"
   ]
  },
  {
   "cell_type": "code",
   "execution_count": 10,
   "metadata": {},
   "outputs": [
    {
     "data": {
      "text/plain": [
       "array(['3', '2', '1'], dtype=object)"
      ]
     },
     "execution_count": 10,
     "metadata": {},
     "output_type": "execute_result"
    }
   ],
   "source": [
    "# policy, repeated type of Personal/Corporate, redundant \n",
    "categorical_df['policy'] = categorical_df['policy'].str.extract('([A-Z](\\d+))')[1]\n",
    "categorical_df['policy'].unique()"
   ]
  },
  {
   "cell_type": "code",
   "execution_count": 11,
   "metadata": {},
   "outputs": [
    {
     "data": {
      "text/plain": [
       "array(['Corporate', 'Personal', 'Special'], dtype=object)"
      ]
     },
     "execution_count": 11,
     "metadata": {},
     "output_type": "execute_result"
    }
   ],
   "source": [
    "# policy_type, repeated mention of Auto, redundant \n",
    "categorical_df['policy_type'] = categorical_df['policy_type'].str.extract('^(\\w+)')\n",
    "categorical_df['policy_type'].unique()"
   ]
  },
  {
   "cell_type": "code",
   "execution_count": 12,
   "metadata": {},
   "outputs": [
    {
     "data": {
      "text/html": [
       "<div>\n",
       "<style scoped>\n",
       "    .dataframe tbody tr th:only-of-type {\n",
       "        vertical-align: middle;\n",
       "    }\n",
       "\n",
       "    .dataframe tbody tr th {\n",
       "        vertical-align: top;\n",
       "    }\n",
       "\n",
       "    .dataframe thead th {\n",
       "        text-align: right;\n",
       "    }\n",
       "</style>\n",
       "<table border=\"1\" class=\"dataframe\">\n",
       "  <thead>\n",
       "    <tr style=\"text-align: right;\">\n",
       "      <th></th>\n",
       "      <th>customer</th>\n",
       "      <th>state</th>\n",
       "      <th>response</th>\n",
       "      <th>coverage</th>\n",
       "      <th>education</th>\n",
       "      <th>effective_to_date</th>\n",
       "      <th>employmentstatus</th>\n",
       "      <th>gender</th>\n",
       "      <th>location_code</th>\n",
       "      <th>marital_status</th>\n",
       "      <th>policy_type</th>\n",
       "      <th>policy</th>\n",
       "      <th>renew_offer_type</th>\n",
       "      <th>sales_channel</th>\n",
       "      <th>vehicle_class</th>\n",
       "      <th>vehicle_size</th>\n",
       "    </tr>\n",
       "  </thead>\n",
       "  <tbody>\n",
       "    <tr>\n",
       "      <th>0</th>\n",
       "      <td>BU79786</td>\n",
       "      <td>Washington</td>\n",
       "      <td>0</td>\n",
       "      <td>Basic</td>\n",
       "      <td>Bachelor</td>\n",
       "      <td>2011-02-24</td>\n",
       "      <td>Employed</td>\n",
       "      <td>F</td>\n",
       "      <td>Suburban</td>\n",
       "      <td>Married</td>\n",
       "      <td>Corporate</td>\n",
       "      <td>3</td>\n",
       "      <td>1</td>\n",
       "      <td>Agent</td>\n",
       "      <td>Two-Door Car</td>\n",
       "      <td>Midsize</td>\n",
       "    </tr>\n",
       "    <tr>\n",
       "      <th>1</th>\n",
       "      <td>QZ44356</td>\n",
       "      <td>Arizona</td>\n",
       "      <td>0</td>\n",
       "      <td>Extended</td>\n",
       "      <td>Bachelor</td>\n",
       "      <td>2011-01-31</td>\n",
       "      <td>Unemployed</td>\n",
       "      <td>F</td>\n",
       "      <td>Suburban</td>\n",
       "      <td>Single</td>\n",
       "      <td>Personal</td>\n",
       "      <td>3</td>\n",
       "      <td>3</td>\n",
       "      <td>Agent</td>\n",
       "      <td>Four-Door Car</td>\n",
       "      <td>Midsize</td>\n",
       "    </tr>\n",
       "    <tr>\n",
       "      <th>2</th>\n",
       "      <td>AI49188</td>\n",
       "      <td>Nevada</td>\n",
       "      <td>0</td>\n",
       "      <td>Premium</td>\n",
       "      <td>Bachelor</td>\n",
       "      <td>2011-02-19</td>\n",
       "      <td>Employed</td>\n",
       "      <td>F</td>\n",
       "      <td>Suburban</td>\n",
       "      <td>Married</td>\n",
       "      <td>Personal</td>\n",
       "      <td>3</td>\n",
       "      <td>1</td>\n",
       "      <td>Agent</td>\n",
       "      <td>Two-Door Car</td>\n",
       "      <td>Midsize</td>\n",
       "    </tr>\n",
       "    <tr>\n",
       "      <th>3</th>\n",
       "      <td>WW63253</td>\n",
       "      <td>California</td>\n",
       "      <td>0</td>\n",
       "      <td>Basic</td>\n",
       "      <td>Bachelor</td>\n",
       "      <td>2011-01-20</td>\n",
       "      <td>Unemployed</td>\n",
       "      <td>M</td>\n",
       "      <td>Suburban</td>\n",
       "      <td>Married</td>\n",
       "      <td>Corporate</td>\n",
       "      <td>2</td>\n",
       "      <td>1</td>\n",
       "      <td>Call Center</td>\n",
       "      <td>SUV</td>\n",
       "      <td>Midsize</td>\n",
       "    </tr>\n",
       "    <tr>\n",
       "      <th>4</th>\n",
       "      <td>HB64268</td>\n",
       "      <td>Washington</td>\n",
       "      <td>0</td>\n",
       "      <td>Basic</td>\n",
       "      <td>Bachelor</td>\n",
       "      <td>2011-02-03</td>\n",
       "      <td>Employed</td>\n",
       "      <td>M</td>\n",
       "      <td>Rural</td>\n",
       "      <td>Single</td>\n",
       "      <td>Personal</td>\n",
       "      <td>1</td>\n",
       "      <td>1</td>\n",
       "      <td>Agent</td>\n",
       "      <td>Four-Door Car</td>\n",
       "      <td>Midsize</td>\n",
       "    </tr>\n",
       "  </tbody>\n",
       "</table>\n",
       "</div>"
      ],
      "text/plain": [
       "  customer       state  response  coverage education effective_to_date  \\\n",
       "0  BU79786  Washington         0     Basic  Bachelor        2011-02-24   \n",
       "1  QZ44356     Arizona         0  Extended  Bachelor        2011-01-31   \n",
       "2  AI49188      Nevada         0   Premium  Bachelor        2011-02-19   \n",
       "3  WW63253  California         0     Basic  Bachelor        2011-01-20   \n",
       "4  HB64268  Washington         0     Basic  Bachelor        2011-02-03   \n",
       "\n",
       "  employmentstatus gender location_code marital_status policy_type policy  \\\n",
       "0         Employed      F      Suburban        Married   Corporate      3   \n",
       "1       Unemployed      F      Suburban         Single    Personal      3   \n",
       "2         Employed      F      Suburban        Married    Personal      3   \n",
       "3       Unemployed      M      Suburban        Married   Corporate      2   \n",
       "4         Employed      M         Rural         Single    Personal      1   \n",
       "\n",
       "  renew_offer_type sales_channel  vehicle_class vehicle_size  \n",
       "0                1         Agent   Two-Door Car      Midsize  \n",
       "1                3         Agent  Four-Door Car      Midsize  \n",
       "2                1         Agent   Two-Door Car      Midsize  \n",
       "3                1   Call Center            SUV      Midsize  \n",
       "4                1         Agent  Four-Door Car      Midsize  "
      ]
     },
     "execution_count": 12,
     "metadata": {},
     "output_type": "execute_result"
    }
   ],
   "source": [
    "categorical_df.head()"
   ]
  },
  {
   "cell_type": "markdown",
   "metadata": {},
   "source": [
    "8. Compare policy_type and policy. What information is contained in these columns. Can you identify what is important?\n",
    "> already did that in previous part"
   ]
  },
  {
   "cell_type": "markdown",
   "metadata": {},
   "source": [
    "9. Check number of unique values in each column, can they be combined in any way to ease encoding? Comment your thoughts and make those changes."
   ]
  },
  {
   "cell_type": "code",
   "execution_count": 13,
   "metadata": {},
   "outputs": [
    {
     "data": {
      "text/plain": [
       "customer             8290\n",
       "state                   5\n",
       "response                2\n",
       "coverage                3\n",
       "education               5\n",
       "effective_to_date      59\n",
       "employmentstatus        5\n",
       "gender                  2\n",
       "location_code           3\n",
       "marital_status          3\n",
       "policy_type             3\n",
       "policy                  3\n",
       "renew_offer_type        4\n",
       "sales_channel           4\n",
       "vehicle_class           6\n",
       "vehicle_size            3\n",
       "dtype: int64"
      ]
     },
     "execution_count": 13,
     "metadata": {},
     "output_type": "execute_result"
    }
   ],
   "source": [
    "categorical_df.apply(lambda x: x.nunique())"
   ]
  },
  {
   "cell_type": "code",
   "execution_count": 14,
   "metadata": {},
   "outputs": [
    {
     "data": {
      "text/plain": [
       "{'customer': array(['BU79786', 'QZ44356', 'AI49188', ..., 'TD14365', 'UP19263',\n",
       "        'Y167826'], dtype=object),\n",
       " 'state': array(['Washington', 'Arizona', 'Nevada', 'California', 'Oregon'],\n",
       "       dtype=object),\n",
       " 'response': array([0, 1]),\n",
       " 'coverage': array(['Basic', 'Extended', 'Premium'], dtype=object),\n",
       " 'education': array(['Bachelor', 'College', 'Master', 'High School or Below', 'Doctor'],\n",
       "       dtype=object),\n",
       " 'effective_to_date': <DatetimeArray>\n",
       " ['2011-02-24 00:00:00', '2011-01-31 00:00:00', '2011-02-19 00:00:00',\n",
       "  '2011-01-20 00:00:00', '2011-02-03 00:00:00', '2011-01-25 00:00:00',\n",
       "  '2011-01-18 00:00:00', '2011-02-17 00:00:00', '2011-02-21 00:00:00',\n",
       "  '2011-01-06 00:00:00', '2011-02-06 00:00:00', '2011-01-10 00:00:00',\n",
       "  '2011-01-17 00:00:00', '2011-01-05 00:00:00', '2011-02-27 00:00:00',\n",
       "  '2011-01-14 00:00:00', '2011-01-21 00:00:00', '2011-02-05 00:00:00',\n",
       "  '2011-01-29 00:00:00', '2011-02-28 00:00:00', '2011-02-12 00:00:00',\n",
       "  '2011-02-02 00:00:00', '2011-02-07 00:00:00', '2011-02-13 00:00:00',\n",
       "  '2011-01-15 00:00:00', '2011-01-08 00:00:00', '2011-01-11 00:00:00',\n",
       "  '2011-01-28 00:00:00', '2011-02-08 00:00:00', '2011-02-23 00:00:00',\n",
       "  '2011-01-02 00:00:00', '2011-02-16 00:00:00', '2011-01-22 00:00:00',\n",
       "  '2011-01-23 00:00:00', '2011-01-26 00:00:00', '2011-01-27 00:00:00',\n",
       "  '2011-01-09 00:00:00', '2011-02-11 00:00:00', '2011-02-04 00:00:00',\n",
       "  '2011-02-01 00:00:00', '2011-02-15 00:00:00', '2011-02-26 00:00:00',\n",
       "  '2011-01-16 00:00:00', '2011-01-01 00:00:00', '2011-02-10 00:00:00',\n",
       "  '2011-01-24 00:00:00', '2011-02-25 00:00:00', '2011-01-12 00:00:00',\n",
       "  '2011-02-09 00:00:00', '2011-01-19 00:00:00', '2011-01-04 00:00:00',\n",
       "  '2011-02-14 00:00:00', '2011-02-20 00:00:00', '2011-02-18 00:00:00',\n",
       "  '2011-01-13 00:00:00', '2011-01-03 00:00:00', '2011-01-30 00:00:00',\n",
       "  '2011-02-22 00:00:00', '2011-01-07 00:00:00']\n",
       " Length: 59, dtype: datetime64[ns],\n",
       " 'employmentstatus': array(['Employed', 'Unemployed', 'Medical Leave', 'Disabled', 'Retired'],\n",
       "       dtype=object),\n",
       " 'gender': array(['F', 'M'], dtype=object),\n",
       " 'location_code': array(['Suburban', 'Rural', 'Urban'], dtype=object),\n",
       " 'marital_status': array(['Married', 'Single', 'Divorced'], dtype=object),\n",
       " 'policy_type': array(['Corporate', 'Personal', 'Special'], dtype=object),\n",
       " 'policy': array(['3', '2', '1'], dtype=object),\n",
       " 'renew_offer_type': array(['1', '3', '2', '4'], dtype=object),\n",
       " 'sales_channel': array(['Agent', 'Call Center', 'Web', 'Branch'], dtype=object),\n",
       " 'vehicle_class': array(['Two-Door Car', 'Four-Door Car', 'SUV', 'Sports Car', 'Luxury SUV',\n",
       "        'Luxury Car'], dtype=object),\n",
       " 'vehicle_size': array(['Midsize', 'Small', 'Large'], dtype=object)}"
      ]
     },
     "execution_count": 14,
     "metadata": {},
     "output_type": "execute_result"
    }
   ],
   "source": [
    "{column: categorical_df[column].unique() for column in categorical_df.columns}"
   ]
  },
  {
   "cell_type": "code",
   "execution_count": 15,
   "metadata": {},
   "outputs": [],
   "source": [
    "# effective_to_date, all 2011, jan and feb, can be combined by months \n",
    "categorical_df['effective_to_month_in_2011'] = categorical_df['effective_to_date'].dt.month\n",
    "#categorical_df.drop(columns='effective_to_date')"
   ]
  },
  {
   "cell_type": "markdown",
   "metadata": {},
   "source": [
    "**leaving the rest as is**"
   ]
  },
  {
   "cell_type": "markdown",
   "metadata": {},
   "source": [
    "10. Save the cleaned catagorical dataframe as categorical.csv You will use this file again this week."
   ]
  },
  {
   "cell_type": "code",
   "execution_count": 16,
   "metadata": {},
   "outputs": [],
   "source": [
    "categorical_df.to_csv('categorical.csv', index=False)\n",
    "customer_df.to_csv('customer.csv', index=False)"
   ]
  }
 ],
 "metadata": {
  "kernelspec": {
   "display_name": "base",
   "language": "python",
   "name": "python3"
  },
  "language_info": {
   "codemirror_mode": {
    "name": "ipython",
    "version": 3
   },
   "file_extension": ".py",
   "mimetype": "text/x-python",
   "name": "python",
   "nbconvert_exporter": "python",
   "pygments_lexer": "ipython3",
   "version": "3.11.7"
  }
 },
 "nbformat": 4,
 "nbformat_minor": 2
}
